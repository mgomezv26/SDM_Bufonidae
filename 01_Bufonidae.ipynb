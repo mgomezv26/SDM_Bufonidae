{
 "cells": [
  {
   "cell_type": "markdown",
   "metadata": {},
   "source": [
    "# BUFONIDAE - GBIF\n",
    "\n",
    "## Información sobre la descarga realizada a GBIF meidante el codigo de R:\n",
    "\n",
    "Desde R se ha realizado una descarga de datos de presencia de la familia Bufoniddae Gray, 1825 desde GBIF con el script anterior “00_Download_GBIF.R”. La información correspondiente a dicha descarga es:\n",
    "\n",
    "**Cita:** GBIF.org (05 July 2024) GBIF Occurrence Download  https://doi.org/10.15468/dl.rjd4ty\n",
    "\n",
    "- Conjuntos de datos implicados 4.438\n",
    "- Editores implicados 503\n",
    "- Países editores implicados 7\n",
    "\n",
    "En este Notebook se realiza la limpieza de los datos descargados de GBIF, se realizará una verificación y limpieza de la taxonomia, duplicados, periodo temporal"
   ]
  },
  {
   "cell_type": "markdown",
   "metadata": {},
   "source": [
    "# Información sobre la version de Python y entorno utilizado:"
   ]
  },
  {
   "cell_type": "code",
   "execution_count": 1,
   "metadata": {},
   "outputs": [
    {
     "name": "stdout",
     "output_type": "stream",
     "text": [
      "Python version: 3.12.4\n",
      "Conda environment: c:\\Users\\molic\\anaconda3\\envs\\Bufonidae\n"
     ]
    }
   ],
   "source": [
    "import sys\n",
    "import platform\n",
    "\n",
    "print(\"Python version:\", platform.python_version())\n",
    "print(\"Conda environment:\", sys.prefix)"
   ]
  },
  {
   "cell_type": "markdown",
   "metadata": {},
   "source": [
    "# Paquetes"
   ]
  },
  {
   "cell_type": "code",
   "execution_count": 2,
   "metadata": {},
   "outputs": [],
   "source": [
    "import pandas as pd\n",
    "import numpy as np\n",
    "import openpyxl\n",
    "from pygbif import species\n",
    "import matplotlib.pyplot as plt\n",
    "import geopandas as gpd"
   ]
  },
  {
   "cell_type": "markdown",
   "metadata": {},
   "source": [
    "# Carga de datos"
   ]
  },
  {
   "cell_type": "markdown",
   "metadata": {},
   "source": [
    "Previamente, los datos descargados desde GBIF se han restringuido al continente Europeo mediante el sistema de información geografica QGIS, utilizando la herramienta seleccionar por poligono."
   ]
  },
  {
   "cell_type": "code",
   "execution_count": 3,
   "metadata": {},
   "outputs": [
    {
     "name": "stderr",
     "output_type": "stream",
     "text": [
      "C:\\Users\\molic\\AppData\\Local\\Temp\\ipykernel_26976\\1530582232.py:1: DtypeWarning: Columns (4) have mixed types. Specify dtype option on import or set low_memory=False.\n",
      "  df = pd.read_csv('Bufonidae_EU_v0.csv')\n"
     ]
    }
   ],
   "source": [
    "df = pd.read_csv('Data/Bufonidae_EU_v0.csv')"
   ]
  },
  {
   "cell_type": "markdown",
   "metadata": {},
   "source": [
    "## Visualización de los datos y su estructura:"
   ]
  },
  {
   "cell_type": "code",
   "execution_count": 4,
   "metadata": {},
   "outputs": [
    {
     "data": {
      "text/html": [
       "<div>\n",
       "<style scoped>\n",
       "    .dataframe tbody tr th:only-of-type {\n",
       "        vertical-align: middle;\n",
       "    }\n",
       "\n",
       "    .dataframe tbody tr th {\n",
       "        vertical-align: top;\n",
       "    }\n",
       "\n",
       "    .dataframe thead th {\n",
       "        text-align: right;\n",
       "    }\n",
       "</style>\n",
       "<table border=\"1\" class=\"dataframe\">\n",
       "  <thead>\n",
       "    <tr style=\"text-align: right;\">\n",
       "      <th></th>\n",
       "      <th>gbifID</th>\n",
       "      <th>family</th>\n",
       "      <th>genus</th>\n",
       "      <th>species</th>\n",
       "      <th>infraspecificEpithet</th>\n",
       "      <th>taxonRank</th>\n",
       "      <th>scientificName</th>\n",
       "      <th>countryCode</th>\n",
       "      <th>locality</th>\n",
       "      <th>stateProvince</th>\n",
       "      <th>...</th>\n",
       "      <th>decimalLongitude</th>\n",
       "      <th>coordinatePrecision</th>\n",
       "      <th>eventDate</th>\n",
       "      <th>day</th>\n",
       "      <th>month</th>\n",
       "      <th>year</th>\n",
       "      <th>occurrenceStatus</th>\n",
       "      <th>basisOfRecord</th>\n",
       "      <th>recordedBy</th>\n",
       "      <th>issue</th>\n",
       "    </tr>\n",
       "  </thead>\n",
       "  <tbody>\n",
       "    <tr>\n",
       "      <th>0</th>\n",
       "      <td>2502246604</td>\n",
       "      <td>Bufonidae</td>\n",
       "      <td>Bufo</td>\n",
       "      <td>Bufo bufo</td>\n",
       "      <td>NaN</td>\n",
       "      <td>SPECIES</td>\n",
       "      <td>Bufo bufo (Linnaeus, 1758)</td>\n",
       "      <td>FR</td>\n",
       "      <td>NaN</td>\n",
       "      <td>NaN</td>\n",
       "      <td>...</td>\n",
       "      <td>2.13477</td>\n",
       "      <td>NaN</td>\n",
       "      <td>2014-04-07</td>\n",
       "      <td>7.0</td>\n",
       "      <td>4.0</td>\n",
       "      <td>2014.0</td>\n",
       "      <td>PRESENT</td>\n",
       "      <td>HUMAN_OBSERVATION</td>\n",
       "      <td>Dewulf Lucile</td>\n",
       "      <td>CONTINENT_DERIVED_FROM_COORDINATES;TAXON_MATCH...</td>\n",
       "    </tr>\n",
       "    <tr>\n",
       "      <th>1</th>\n",
       "      <td>2502246611</td>\n",
       "      <td>Bufonidae</td>\n",
       "      <td>Bufo</td>\n",
       "      <td>Bufo bufo</td>\n",
       "      <td>NaN</td>\n",
       "      <td>SPECIES</td>\n",
       "      <td>Bufo bufo (Linnaeus, 1758)</td>\n",
       "      <td>FR</td>\n",
       "      <td>NaN</td>\n",
       "      <td>NaN</td>\n",
       "      <td>...</td>\n",
       "      <td>2.56825</td>\n",
       "      <td>NaN</td>\n",
       "      <td>2015-03-01</td>\n",
       "      <td>1.0</td>\n",
       "      <td>3.0</td>\n",
       "      <td>2015.0</td>\n",
       "      <td>PRESENT</td>\n",
       "      <td>HUMAN_OBSERVATION</td>\n",
       "      <td>Dewulf Lucile</td>\n",
       "      <td>CONTINENT_DERIVED_FROM_COORDINATES;FOOTPRINT_W...</td>\n",
       "    </tr>\n",
       "    <tr>\n",
       "      <th>2</th>\n",
       "      <td>4083393551</td>\n",
       "      <td>Bufonidae</td>\n",
       "      <td>Epidalea</td>\n",
       "      <td>Epidalea calamita</td>\n",
       "      <td>NaN</td>\n",
       "      <td>SPECIES</td>\n",
       "      <td>Epidalea calamita (Laurenti, 1768)</td>\n",
       "      <td>FR</td>\n",
       "      <td>NaN</td>\n",
       "      <td>NaN</td>\n",
       "      <td>...</td>\n",
       "      <td>4.70202</td>\n",
       "      <td>NaN</td>\n",
       "      <td>2001-07-01</td>\n",
       "      <td>1.0</td>\n",
       "      <td>7.0</td>\n",
       "      <td>2001.0</td>\n",
       "      <td>PRESENT</td>\n",
       "      <td>HUMAN_OBSERVATION</td>\n",
       "      <td>LOMBARDINI Katia</td>\n",
       "      <td>CONTINENT_DERIVED_FROM_COORDINATES;TAXON_MATCH...</td>\n",
       "    </tr>\n",
       "    <tr>\n",
       "      <th>3</th>\n",
       "      <td>4083143581</td>\n",
       "      <td>Bufonidae</td>\n",
       "      <td>Epidalea</td>\n",
       "      <td>Epidalea calamita</td>\n",
       "      <td>NaN</td>\n",
       "      <td>SPECIES</td>\n",
       "      <td>Epidalea calamita (Laurenti, 1768)</td>\n",
       "      <td>FR</td>\n",
       "      <td>NaN</td>\n",
       "      <td>NaN</td>\n",
       "      <td>...</td>\n",
       "      <td>5.34080</td>\n",
       "      <td>NaN</td>\n",
       "      <td>1990-02-28</td>\n",
       "      <td>28.0</td>\n",
       "      <td>2.0</td>\n",
       "      <td>1990.0</td>\n",
       "      <td>PRESENT</td>\n",
       "      <td>HUMAN_OBSERVATION</td>\n",
       "      <td>OLIOSO Georges</td>\n",
       "      <td>CONTINENT_DERIVED_FROM_COORDINATES;TAXON_MATCH...</td>\n",
       "    </tr>\n",
       "    <tr>\n",
       "      <th>4</th>\n",
       "      <td>4083143679</td>\n",
       "      <td>Bufonidae</td>\n",
       "      <td>Epidalea</td>\n",
       "      <td>Epidalea calamita</td>\n",
       "      <td>NaN</td>\n",
       "      <td>SPECIES</td>\n",
       "      <td>Epidalea calamita (Laurenti, 1768)</td>\n",
       "      <td>FR</td>\n",
       "      <td>NaN</td>\n",
       "      <td>NaN</td>\n",
       "      <td>...</td>\n",
       "      <td>4.82290</td>\n",
       "      <td>NaN</td>\n",
       "      <td>2000-03-11</td>\n",
       "      <td>11.0</td>\n",
       "      <td>3.0</td>\n",
       "      <td>2000.0</td>\n",
       "      <td>PRESENT</td>\n",
       "      <td>HUMAN_OBSERVATION</td>\n",
       "      <td>LOMBARDINI Katia;OLIVIER Anthony</td>\n",
       "      <td>CONTINENT_DERIVED_FROM_COORDINATES;TAXON_MATCH...</td>\n",
       "    </tr>\n",
       "    <tr>\n",
       "      <th>...</th>\n",
       "      <td>...</td>\n",
       "      <td>...</td>\n",
       "      <td>...</td>\n",
       "      <td>...</td>\n",
       "      <td>...</td>\n",
       "      <td>...</td>\n",
       "      <td>...</td>\n",
       "      <td>...</td>\n",
       "      <td>...</td>\n",
       "      <td>...</td>\n",
       "      <td>...</td>\n",
       "      <td>...</td>\n",
       "      <td>...</td>\n",
       "      <td>...</td>\n",
       "      <td>...</td>\n",
       "      <td>...</td>\n",
       "      <td>...</td>\n",
       "      <td>...</td>\n",
       "      <td>...</td>\n",
       "      <td>...</td>\n",
       "      <td>...</td>\n",
       "    </tr>\n",
       "    <tr>\n",
       "      <th>701260</th>\n",
       "      <td>3489805629</td>\n",
       "      <td>Bufonidae</td>\n",
       "      <td>Bufo</td>\n",
       "      <td>Bufo bufo</td>\n",
       "      <td>NaN</td>\n",
       "      <td>SPECIES</td>\n",
       "      <td>Bufo bufo (Linnaeus, 1758)</td>\n",
       "      <td>FR</td>\n",
       "      <td>NaN</td>\n",
       "      <td>NaN</td>\n",
       "      <td>...</td>\n",
       "      <td>-1.10805</td>\n",
       "      <td>NaN</td>\n",
       "      <td>2013-07-26</td>\n",
       "      <td>26.0</td>\n",
       "      <td>7.0</td>\n",
       "      <td>2013.0</td>\n",
       "      <td>PRESENT</td>\n",
       "      <td>HUMAN_OBSERVATION</td>\n",
       "      <td>adev environnement</td>\n",
       "      <td>CONTINENT_DERIVED_FROM_COORDINATES;TAXON_MATCH...</td>\n",
       "    </tr>\n",
       "    <tr>\n",
       "      <th>701261</th>\n",
       "      <td>4086187318</td>\n",
       "      <td>Bufonidae</td>\n",
       "      <td>Epidalea</td>\n",
       "      <td>Epidalea calamita</td>\n",
       "      <td>NaN</td>\n",
       "      <td>SPECIES</td>\n",
       "      <td>Epidalea calamita (Laurenti, 1768)</td>\n",
       "      <td>FR</td>\n",
       "      <td>NaN</td>\n",
       "      <td>NaN</td>\n",
       "      <td>...</td>\n",
       "      <td>5.14178</td>\n",
       "      <td>NaN</td>\n",
       "      <td>2020-03-26</td>\n",
       "      <td>26.0</td>\n",
       "      <td>3.0</td>\n",
       "      <td>2020.0</td>\n",
       "      <td>PRESENT</td>\n",
       "      <td>HUMAN_OBSERVATION</td>\n",
       "      <td>JAFFRE Jonathan</td>\n",
       "      <td>CONTINENT_DERIVED_FROM_COORDINATES;TAXON_MATCH...</td>\n",
       "    </tr>\n",
       "    <tr>\n",
       "      <th>701262</th>\n",
       "      <td>4086187322</td>\n",
       "      <td>Bufonidae</td>\n",
       "      <td>Epidalea</td>\n",
       "      <td>Epidalea calamita</td>\n",
       "      <td>NaN</td>\n",
       "      <td>SPECIES</td>\n",
       "      <td>Epidalea calamita (Laurenti, 1768)</td>\n",
       "      <td>FR</td>\n",
       "      <td>NaN</td>\n",
       "      <td>NaN</td>\n",
       "      <td>...</td>\n",
       "      <td>5.14178</td>\n",
       "      <td>NaN</td>\n",
       "      <td>2020-04-22</td>\n",
       "      <td>22.0</td>\n",
       "      <td>4.0</td>\n",
       "      <td>2020.0</td>\n",
       "      <td>PRESENT</td>\n",
       "      <td>HUMAN_OBSERVATION</td>\n",
       "      <td>DURAND Guy</td>\n",
       "      <td>CONTINENT_DERIVED_FROM_COORDINATES;TAXON_MATCH...</td>\n",
       "    </tr>\n",
       "    <tr>\n",
       "      <th>701263</th>\n",
       "      <td>4086187344</td>\n",
       "      <td>Bufonidae</td>\n",
       "      <td>Epidalea</td>\n",
       "      <td>Epidalea calamita</td>\n",
       "      <td>NaN</td>\n",
       "      <td>SPECIES</td>\n",
       "      <td>Epidalea calamita (Laurenti, 1768)</td>\n",
       "      <td>FR</td>\n",
       "      <td>NaN</td>\n",
       "      <td>NaN</td>\n",
       "      <td>...</td>\n",
       "      <td>5.14178</td>\n",
       "      <td>NaN</td>\n",
       "      <td>2020-04-22</td>\n",
       "      <td>22.0</td>\n",
       "      <td>4.0</td>\n",
       "      <td>2020.0</td>\n",
       "      <td>PRESENT</td>\n",
       "      <td>HUMAN_OBSERVATION</td>\n",
       "      <td>DURAND Guy</td>\n",
       "      <td>CONTINENT_DERIVED_FROM_COORDINATES;TAXON_MATCH...</td>\n",
       "    </tr>\n",
       "    <tr>\n",
       "      <th>701264</th>\n",
       "      <td>4086187366</td>\n",
       "      <td>Bufonidae</td>\n",
       "      <td>Epidalea</td>\n",
       "      <td>Epidalea calamita</td>\n",
       "      <td>NaN</td>\n",
       "      <td>SPECIES</td>\n",
       "      <td>Epidalea calamita (Laurenti, 1768)</td>\n",
       "      <td>FR</td>\n",
       "      <td>NaN</td>\n",
       "      <td>NaN</td>\n",
       "      <td>...</td>\n",
       "      <td>5.14178</td>\n",
       "      <td>NaN</td>\n",
       "      <td>2020-04-23</td>\n",
       "      <td>23.0</td>\n",
       "      <td>4.0</td>\n",
       "      <td>2020.0</td>\n",
       "      <td>PRESENT</td>\n",
       "      <td>HUMAN_OBSERVATION</td>\n",
       "      <td>DURAND Guy</td>\n",
       "      <td>CONTINENT_DERIVED_FROM_COORDINATES;TAXON_MATCH...</td>\n",
       "    </tr>\n",
       "  </tbody>\n",
       "</table>\n",
       "<p>701265 rows × 21 columns</p>\n",
       "</div>"
      ],
      "text/plain": [
       "            gbifID     family     genus            species  \\\n",
       "0       2502246604  Bufonidae      Bufo          Bufo bufo   \n",
       "1       2502246611  Bufonidae      Bufo          Bufo bufo   \n",
       "2       4083393551  Bufonidae  Epidalea  Epidalea calamita   \n",
       "3       4083143581  Bufonidae  Epidalea  Epidalea calamita   \n",
       "4       4083143679  Bufonidae  Epidalea  Epidalea calamita   \n",
       "...            ...        ...       ...                ...   \n",
       "701260  3489805629  Bufonidae      Bufo          Bufo bufo   \n",
       "701261  4086187318  Bufonidae  Epidalea  Epidalea calamita   \n",
       "701262  4086187322  Bufonidae  Epidalea  Epidalea calamita   \n",
       "701263  4086187344  Bufonidae  Epidalea  Epidalea calamita   \n",
       "701264  4086187366  Bufonidae  Epidalea  Epidalea calamita   \n",
       "\n",
       "       infraspecificEpithet taxonRank                      scientificName  \\\n",
       "0                       NaN   SPECIES          Bufo bufo (Linnaeus, 1758)   \n",
       "1                       NaN   SPECIES          Bufo bufo (Linnaeus, 1758)   \n",
       "2                       NaN   SPECIES  Epidalea calamita (Laurenti, 1768)   \n",
       "3                       NaN   SPECIES  Epidalea calamita (Laurenti, 1768)   \n",
       "4                       NaN   SPECIES  Epidalea calamita (Laurenti, 1768)   \n",
       "...                     ...       ...                                 ...   \n",
       "701260                  NaN   SPECIES          Bufo bufo (Linnaeus, 1758)   \n",
       "701261                  NaN   SPECIES  Epidalea calamita (Laurenti, 1768)   \n",
       "701262                  NaN   SPECIES  Epidalea calamita (Laurenti, 1768)   \n",
       "701263                  NaN   SPECIES  Epidalea calamita (Laurenti, 1768)   \n",
       "701264                  NaN   SPECIES  Epidalea calamita (Laurenti, 1768)   \n",
       "\n",
       "       countryCode locality stateProvince  ...  decimalLongitude  \\\n",
       "0               FR      NaN           NaN  ...           2.13477   \n",
       "1               FR      NaN           NaN  ...           2.56825   \n",
       "2               FR      NaN           NaN  ...           4.70202   \n",
       "3               FR      NaN           NaN  ...           5.34080   \n",
       "4               FR      NaN           NaN  ...           4.82290   \n",
       "...            ...      ...           ...  ...               ...   \n",
       "701260          FR      NaN           NaN  ...          -1.10805   \n",
       "701261          FR      NaN           NaN  ...           5.14178   \n",
       "701262          FR      NaN           NaN  ...           5.14178   \n",
       "701263          FR      NaN           NaN  ...           5.14178   \n",
       "701264          FR      NaN           NaN  ...           5.14178   \n",
       "\n",
       "        coordinatePrecision   eventDate   day  month    year  \\\n",
       "0                       NaN  2014-04-07   7.0    4.0  2014.0   \n",
       "1                       NaN  2015-03-01   1.0    3.0  2015.0   \n",
       "2                       NaN  2001-07-01   1.0    7.0  2001.0   \n",
       "3                       NaN  1990-02-28  28.0    2.0  1990.0   \n",
       "4                       NaN  2000-03-11  11.0    3.0  2000.0   \n",
       "...                     ...         ...   ...    ...     ...   \n",
       "701260                  NaN  2013-07-26  26.0    7.0  2013.0   \n",
       "701261                  NaN  2020-03-26  26.0    3.0  2020.0   \n",
       "701262                  NaN  2020-04-22  22.0    4.0  2020.0   \n",
       "701263                  NaN  2020-04-22  22.0    4.0  2020.0   \n",
       "701264                  NaN  2020-04-23  23.0    4.0  2020.0   \n",
       "\n",
       "        occurrenceStatus      basisOfRecord                        recordedBy  \\\n",
       "0                PRESENT  HUMAN_OBSERVATION                     Dewulf Lucile   \n",
       "1                PRESENT  HUMAN_OBSERVATION                     Dewulf Lucile   \n",
       "2                PRESENT  HUMAN_OBSERVATION                  LOMBARDINI Katia   \n",
       "3                PRESENT  HUMAN_OBSERVATION                    OLIOSO Georges   \n",
       "4                PRESENT  HUMAN_OBSERVATION  LOMBARDINI Katia;OLIVIER Anthony   \n",
       "...                  ...                ...                               ...   \n",
       "701260           PRESENT  HUMAN_OBSERVATION                adev environnement   \n",
       "701261           PRESENT  HUMAN_OBSERVATION                   JAFFRE Jonathan   \n",
       "701262           PRESENT  HUMAN_OBSERVATION                        DURAND Guy   \n",
       "701263           PRESENT  HUMAN_OBSERVATION                        DURAND Guy   \n",
       "701264           PRESENT  HUMAN_OBSERVATION                        DURAND Guy   \n",
       "\n",
       "                                                    issue  \n",
       "0       CONTINENT_DERIVED_FROM_COORDINATES;TAXON_MATCH...  \n",
       "1       CONTINENT_DERIVED_FROM_COORDINATES;FOOTPRINT_W...  \n",
       "2       CONTINENT_DERIVED_FROM_COORDINATES;TAXON_MATCH...  \n",
       "3       CONTINENT_DERIVED_FROM_COORDINATES;TAXON_MATCH...  \n",
       "4       CONTINENT_DERIVED_FROM_COORDINATES;TAXON_MATCH...  \n",
       "...                                                   ...  \n",
       "701260  CONTINENT_DERIVED_FROM_COORDINATES;TAXON_MATCH...  \n",
       "701261  CONTINENT_DERIVED_FROM_COORDINATES;TAXON_MATCH...  \n",
       "701262  CONTINENT_DERIVED_FROM_COORDINATES;TAXON_MATCH...  \n",
       "701263  CONTINENT_DERIVED_FROM_COORDINATES;TAXON_MATCH...  \n",
       "701264  CONTINENT_DERIVED_FROM_COORDINATES;TAXON_MATCH...  \n",
       "\n",
       "[701265 rows x 21 columns]"
      ]
     },
     "execution_count": 4,
     "metadata": {},
     "output_type": "execute_result"
    }
   ],
   "source": [
    "df"
   ]
  },
  {
   "cell_type": "markdown",
   "metadata": {},
   "source": [
    "Se observa que hay 701265 registros y 21 columnas en el dataframe"
   ]
  },
  {
   "cell_type": "code",
   "execution_count": 5,
   "metadata": {},
   "outputs": [
    {
     "name": "stdout",
     "output_type": "stream",
     "text": [
      "gbifID                    int64\n",
      "family                   object\n",
      "genus                    object\n",
      "species                  object\n",
      "infraspecificEpithet     object\n",
      "taxonRank                object\n",
      "scientificName           object\n",
      "countryCode              object\n",
      "locality                 object\n",
      "stateProvince            object\n",
      "decimalLatitude         float64\n",
      "decimalLongitude        float64\n",
      "coordinatePrecision     float64\n",
      "eventDate                object\n",
      "day                     float64\n",
      "month                   float64\n",
      "year                    float64\n",
      "occurrenceStatus         object\n",
      "basisOfRecord            object\n",
      "recordedBy               object\n",
      "issue                    object\n",
      "dtype: object\n"
     ]
    }
   ],
   "source": [
    "print(df.dtypes)"
   ]
  },
  {
   "cell_type": "markdown",
   "metadata": {},
   "source": [
    "### Fuente de los datos - 'basisOfRecord' - Filtro previo\n",
    "\n",
    "En GBIF (Global Biodiversity Information Facility), la variable \"basisOfRecord\" se refiere al campo que indica la naturaleza de la fuente original de los datos de ocurrencia de una especie en particular. Permite entender el tipo de información disponible sobre una observación específica de biodiversidad. Algunos de los valores comunes que puede tomar el campo \"basisOfRecord\" en GBIF incluyen:\n",
    "\n",
    "- **PreservedSpecimen**: Indica que la información proviene de un espécimen preservado, como en un museo o una colección científica.\n",
    "\n",
    "- **FossilSpecimen**: Se utiliza cuando la observación proviene de un fósil.\n",
    "\n",
    "- **LivingSpecimen**: Cuando la observación proviene de un organismo vivo en la naturaleza.\n",
    "\n",
    "- **HumanObservation**: Indica que la observación fue realizada por un observador humano directamente en el campo.\n",
    "\n",
    "- **MachineObservation**: Indica que la observación fue realizada automáticamente por un dispositivo o máquina, como sensores remotos o dispositivos de monitoreo automatizado.\n",
    "\n",
    "- **MaterialSample**: Se refiere a muestras de material biológico que pueden ser usadas para análisis posteriores.\n",
    "\n",
    "- **occurrence**: Ocurrencia general de una especie en un lugar y tiempo determinado"
   ]
  },
  {
   "cell_type": "code",
   "execution_count": 6,
   "metadata": {},
   "outputs": [
    {
     "data": {
      "text/plain": [
       "array(['HUMAN_OBSERVATION', 'PRESERVED_SPECIMEN', 'MATERIAL_CITATION',\n",
       "       'OCCURRENCE', 'LIVING_SPECIMEN', 'OBSERVATION', 'MATERIAL_SAMPLE',\n",
       "       'MACHINE_OBSERVATION', 'FOSSIL_SPECIMEN'], dtype=object)"
      ]
     },
     "execution_count": 6,
     "metadata": {},
     "output_type": "execute_result"
    }
   ],
   "source": [
    "df['basisOfRecord'].unique()"
   ]
  },
  {
   "cell_type": "code",
   "execution_count": 7,
   "metadata": {},
   "outputs": [
    {
     "data": {
      "text/plain": [
       "basisOfRecord\n",
       "HUMAN_OBSERVATION      687401\n",
       "PRESERVED_SPECIMEN       5475\n",
       "OCCURRENCE               4231\n",
       "MATERIAL_CITATION        2872\n",
       "OBSERVATION              1101\n",
       "MACHINE_OBSERVATION       103\n",
       "MATERIAL_SAMPLE            77\n",
       "FOSSIL_SPECIMEN             3\n",
       "LIVING_SPECIMEN             2\n",
       "Name: count, dtype: int64"
      ]
     },
     "execution_count": 7,
     "metadata": {},
     "output_type": "execute_result"
    }
   ],
   "source": [
    "df['basisOfRecord'].value_counts()"
   ]
  },
  {
   "cell_type": "markdown",
   "metadata": {},
   "source": [
    "Se eliminaran las siguientes fuentes de datos ya que para el estudio actual de la distribucion de especies no es relevante:\n",
    "\n",
    "- **FossilSpecimen**\n",
    "- **Material_Ctation**"
   ]
  },
  {
   "cell_type": "code",
   "execution_count": 8,
   "metadata": {},
   "outputs": [],
   "source": [
    "df = df[(df['basisOfRecord'] != 'FOSSIL_SPECIMEN') & \n",
    "        (df['basisOfRecord'] != 'MATERIAL_CITATION')& \n",
    "        (df['basisOfRecord'] != 'PRESERVED_SPECIMEN')\n",
    "        ]"
   ]
  },
  {
   "cell_type": "code",
   "execution_count": 9,
   "metadata": {},
   "outputs": [
    {
     "data": {
      "text/plain": [
       "692915"
      ]
     },
     "execution_count": 9,
     "metadata": {},
     "output_type": "execute_result"
    }
   ],
   "source": [
    "df.shape[0]"
   ]
  },
  {
   "cell_type": "code",
   "execution_count": 10,
   "metadata": {},
   "outputs": [
    {
     "data": {
      "text/plain": [
       "8350"
      ]
     },
     "execution_count": 10,
     "metadata": {},
     "output_type": "execute_result"
    }
   ],
   "source": [
    "701265 - 692915"
   ]
  },
  {
   "cell_type": "markdown",
   "metadata": {},
   "source": [
    "Con el primer filtro previo a la limpieza se han eliminado 2875 registros que no tenian una fuente de datos apropiada para este estudio"
   ]
  },
  {
   "cell_type": "markdown",
   "metadata": {},
   "source": [
    "# Verificación taxonómica\n",
    "\n",
    "En este apartado se realizará una limpieza taxonomica de los datos, es decir, se analizará si el registro de presencia esta identificado en un rango taxonómico adecuado."
   ]
  },
  {
   "cell_type": "code",
   "execution_count": 11,
   "metadata": {},
   "outputs": [
    {
     "data": {
      "text/plain": [
       "array(['SPECIES', 'GENUS', 'SUBSPECIES', 'FAMILY', 'UNRANKED'],\n",
       "      dtype=object)"
      ]
     },
     "execution_count": 11,
     "metadata": {},
     "output_type": "execute_result"
    }
   ],
   "source": [
    "df['taxonRank'].unique()"
   ]
  },
  {
   "cell_type": "code",
   "execution_count": 12,
   "metadata": {},
   "outputs": [
    {
     "data": {
      "text/plain": [
       "taxonRank\n",
       "SPECIES       664477\n",
       "SUBSPECIES     15160\n",
       "GENUS          12830\n",
       "FAMILY           393\n",
       "UNRANKED          55\n",
       "Name: count, dtype: int64"
      ]
     },
     "execution_count": 12,
     "metadata": {},
     "output_type": "execute_result"
    }
   ],
   "source": [
    "df['taxonRank'].value_counts()"
   ]
  },
  {
   "cell_type": "markdown",
   "metadata": {},
   "source": [
    "## Filtrar por rango taxonomico correcto"
   ]
  },
  {
   "cell_type": "code",
   "execution_count": 13,
   "metadata": {},
   "outputs": [],
   "source": [
    "df = df[(df['taxonRank'] == 'SPECIES') |\n",
    "        (df['taxonRank'] == 'SUBSPECIES')]"
   ]
  },
  {
   "cell_type": "code",
   "execution_count": 14,
   "metadata": {},
   "outputs": [
    {
     "data": {
      "text/plain": [
       "679637"
      ]
     },
     "execution_count": 14,
     "metadata": {},
     "output_type": "execute_result"
    }
   ],
   "source": [
    "df.shape[0]"
   ]
  },
  {
   "cell_type": "code",
   "execution_count": 15,
   "metadata": {},
   "outputs": [
    {
     "data": {
      "text/plain": [
       "13278"
      ]
     },
     "execution_count": 15,
     "metadata": {},
     "output_type": "execute_result"
    }
   ],
   "source": [
    "692915 - 679637"
   ]
  },
  {
   "cell_type": "markdown",
   "metadata": {},
   "source": [
    "Se han eliminado 13278 registros al filtrar por el rango taxonómico correcto"
   ]
  },
  {
   "cell_type": "markdown",
   "metadata": {},
   "source": [
    "## Listado taxonomico valido\n",
    "\n",
    "Se utilizará el listado taxonómica de especies revisada por Speybroeck et al (2020) para el continente Europeo, teniendo en cuenta la familia *Bufonidae*, para realizar la revisión taxonomica de las especies.\n",
    "\n",
    "El listado revisado de especies europeas para la familia *Bufonidae (Gray, 1825)* es el siguiente:"
   ]
  },
  {
   "cell_type": "code",
   "execution_count": 16,
   "metadata": {},
   "outputs": [
    {
     "data": {
      "text/html": [
       "<div>\n",
       "<style scoped>\n",
       "    .dataframe tbody tr th:only-of-type {\n",
       "        vertical-align: middle;\n",
       "    }\n",
       "\n",
       "    .dataframe tbody tr th {\n",
       "        vertical-align: top;\n",
       "    }\n",
       "\n",
       "    .dataframe thead th {\n",
       "        text-align: right;\n",
       "    }\n",
       "</style>\n",
       "<table border=\"1\" class=\"dataframe\">\n",
       "  <thead>\n",
       "    <tr style=\"text-align: right;\">\n",
       "      <th></th>\n",
       "      <th>family</th>\n",
       "      <th>genus</th>\n",
       "      <th>species</th>\n",
       "      <th>S_Name</th>\n",
       "      <th>name</th>\n",
       "    </tr>\n",
       "  </thead>\n",
       "  <tbody>\n",
       "    <tr>\n",
       "      <th>0</th>\n",
       "      <td>Bufonidae</td>\n",
       "      <td>Bufo</td>\n",
       "      <td>Bufo bufo</td>\n",
       "      <td>Bufo bufo (Linnaeus, 1758)</td>\n",
       "      <td>Common Toad</td>\n",
       "    </tr>\n",
       "    <tr>\n",
       "      <th>1</th>\n",
       "      <td>Bufonidae</td>\n",
       "      <td>Bufo</td>\n",
       "      <td>Bufo spinosus</td>\n",
       "      <td>Bufo spinosus (Daudin, 1803)</td>\n",
       "      <td>Spiny Toad</td>\n",
       "    </tr>\n",
       "    <tr>\n",
       "      <th>2</th>\n",
       "      <td>Bufonidae</td>\n",
       "      <td>Bufotes</td>\n",
       "      <td>Bufotes boulengeri</td>\n",
       "      <td>Bufotes boulengeri (Lataste, 1879)</td>\n",
       "      <td>African Green Toad</td>\n",
       "    </tr>\n",
       "    <tr>\n",
       "      <th>3</th>\n",
       "      <td>Bufonidae</td>\n",
       "      <td>Bufotes</td>\n",
       "      <td>Bufotes cypriensis</td>\n",
       "      <td>Bufotes cypriensis (Litvinchuk, Mazepa, Jablon...</td>\n",
       "      <td>Cyprus Green Toad</td>\n",
       "    </tr>\n",
       "    <tr>\n",
       "      <th>4</th>\n",
       "      <td>Bufonidae</td>\n",
       "      <td>Bufotes</td>\n",
       "      <td>Bufotes viridis</td>\n",
       "      <td>Bufotes viridis (Laurenti, 1768)</td>\n",
       "      <td>Green Toad</td>\n",
       "    </tr>\n",
       "    <tr>\n",
       "      <th>5</th>\n",
       "      <td>Bufonidae</td>\n",
       "      <td>Epidalea</td>\n",
       "      <td>Epidalea calamita</td>\n",
       "      <td>Epidalea calamita (Laurenti, 1768)</td>\n",
       "      <td>Natterjack Toad</td>\n",
       "    </tr>\n",
       "  </tbody>\n",
       "</table>\n",
       "</div>"
      ],
      "text/plain": [
       "      family     genus             species  \\\n",
       "0  Bufonidae      Bufo           Bufo bufo   \n",
       "1  Bufonidae      Bufo       Bufo spinosus   \n",
       "2  Bufonidae   Bufotes  Bufotes boulengeri   \n",
       "3  Bufonidae   Bufotes  Bufotes cypriensis   \n",
       "4  Bufonidae   Bufotes     Bufotes viridis   \n",
       "5  Bufonidae  Epidalea   Epidalea calamita   \n",
       "\n",
       "                                              S_Name                name  \n",
       "0                         Bufo bufo (Linnaeus, 1758)         Common Toad  \n",
       "1                       Bufo spinosus (Daudin, 1803)          Spiny Toad  \n",
       "2                 Bufotes boulengeri (Lataste, 1879)  African Green Toad  \n",
       "3  Bufotes cypriensis (Litvinchuk, Mazepa, Jablon...   Cyprus Green Toad  \n",
       "4                   Bufotes viridis (Laurenti, 1768)          Green Toad  \n",
       "5                 Epidalea calamita (Laurenti, 1768)     Natterjack Toad  "
      ]
     },
     "execution_count": 16,
     "metadata": {},
     "output_type": "execute_result"
    }
   ],
   "source": [
    "europa_list = pd.read_excel('List_Speybroeck_2020.xlsx')\n",
    "europa_list"
   ]
  },
  {
   "cell_type": "markdown",
   "metadata": {},
   "source": [
    "En el listado taxonomico revisado se observa que hay 3 generos de especies europeas en la familia. Segun esta revision hay un total de 6 especies europeas."
   ]
  },
  {
   "cell_type": "code",
   "execution_count": 17,
   "metadata": {},
   "outputs": [
    {
     "data": {
      "text/plain": [
       "genus\n",
       "Bufo           518099\n",
       "Epidalea       139154\n",
       "Bufotes         22302\n",
       "Sclerophrys        79\n",
       "Rhinella            3\n",
       "Name: count, dtype: int64"
      ]
     },
     "execution_count": 17,
     "metadata": {},
     "output_type": "execute_result"
    }
   ],
   "source": [
    "df['genus'].value_counts()"
   ]
  },
  {
   "cell_type": "markdown",
   "metadata": {},
   "source": [
    "En el df se observa que hay 5 generos diferentes, dos de los cuales (Sclerophrys y Rhinella) no estan presentes en el listado taxonómica de especies revisada por Speybroeck et al (2020). Por consiguiente Se filtrará el df con los tres generos europeos antes de validar taxonomicamente los nombres cientificos de las especies."
   ]
  },
  {
   "cell_type": "code",
   "execution_count": 18,
   "metadata": {},
   "outputs": [
    {
     "data": {
      "text/plain": [
       "679637"
      ]
     },
     "execution_count": 18,
     "metadata": {},
     "output_type": "execute_result"
    }
   ],
   "source": [
    "df.shape[0]"
   ]
  },
  {
   "cell_type": "code",
   "execution_count": 19,
   "metadata": {},
   "outputs": [
    {
     "data": {
      "text/plain": [
       "679555"
      ]
     },
     "execution_count": 19,
     "metadata": {},
     "output_type": "execute_result"
    }
   ],
   "source": [
    "df = df[(df['genus'] == 'Bufo') |\n",
    "        (df['genus'] == 'Bufotes') |\n",
    "        (df['genus'] == 'Epidalea')]\n",
    "\n",
    "df.shape[0]"
   ]
  },
  {
   "cell_type": "code",
   "execution_count": 20,
   "metadata": {},
   "outputs": [
    {
     "data": {
      "text/plain": [
       "82"
      ]
     },
     "execution_count": 20,
     "metadata": {},
     "output_type": "execute_result"
    }
   ],
   "source": [
    "679637 - 679555"
   ]
  },
  {
   "cell_type": "markdown",
   "metadata": {},
   "source": [
    "Al filtrar solo los generos europeos se han eliminado 148 registros."
   ]
  },
  {
   "cell_type": "markdown",
   "metadata": {},
   "source": [
    "## Creación de una lista taxonónica\n",
    "\n",
    "    A continuación se crea una lista taxonómica a partir de los campos relacionados con la taxonomia, para obtener un listado con los nombres cientificos de las distintas especies que figuran en el dataset, para posteriormente hacer una comparación el listado taxonómico valido."
   ]
  },
  {
   "cell_type": "code",
   "execution_count": 21,
   "metadata": {},
   "outputs": [
    {
     "data": {
      "text/plain": [
       "Index(['gbifID', 'family', 'genus', 'species', 'infraspecificEpithet',\n",
       "       'taxonRank', 'scientificName', 'countryCode', 'locality',\n",
       "       'stateProvince', 'decimalLatitude', 'decimalLongitude',\n",
       "       'coordinatePrecision', 'eventDate', 'day', 'month', 'year',\n",
       "       'occurrenceStatus', 'basisOfRecord', 'recordedBy', 'issue'],\n",
       "      dtype='object')"
      ]
     },
     "execution_count": 21,
     "metadata": {},
     "output_type": "execute_result"
    }
   ],
   "source": [
    "df.columns"
   ]
  },
  {
   "cell_type": "code",
   "execution_count": 22,
   "metadata": {},
   "outputs": [],
   "source": [
    "# Seleccionar las columnas relevantes del DataFrame que contienen información taxonómica\n",
    "checklist = df[['family', 'genus', 'species', 'infraspecificEpithet', 'taxonRank', 'scientificName']]\n",
    "\n",
    "# Eliminar las entradas duplicadas en el DataFrame 'checklist'\n",
    "checklist = checklist.drop_duplicates()\n",
    "\n",
    "# Escribir el DataFrame 'checklist' en un archivo CSV llamado 'checklist.csv'\n",
    "#checklist.to_csv('01_PREPROCESADO/checklist.csv', sep='\\t', index=False)"
   ]
  },
  {
   "cell_type": "code",
   "execution_count": 23,
   "metadata": {},
   "outputs": [
    {
     "data": {
      "text/html": [
       "<div>\n",
       "<style scoped>\n",
       "    .dataframe tbody tr th:only-of-type {\n",
       "        vertical-align: middle;\n",
       "    }\n",
       "\n",
       "    .dataframe tbody tr th {\n",
       "        vertical-align: top;\n",
       "    }\n",
       "\n",
       "    .dataframe thead th {\n",
       "        text-align: right;\n",
       "    }\n",
       "</style>\n",
       "<table border=\"1\" class=\"dataframe\">\n",
       "  <thead>\n",
       "    <tr style=\"text-align: right;\">\n",
       "      <th></th>\n",
       "      <th>family</th>\n",
       "      <th>genus</th>\n",
       "      <th>species</th>\n",
       "      <th>infraspecificEpithet</th>\n",
       "      <th>taxonRank</th>\n",
       "      <th>scientificName</th>\n",
       "    </tr>\n",
       "  </thead>\n",
       "  <tbody>\n",
       "    <tr>\n",
       "      <th>0</th>\n",
       "      <td>Bufonidae</td>\n",
       "      <td>Bufo</td>\n",
       "      <td>Bufo bufo</td>\n",
       "      <td>NaN</td>\n",
       "      <td>SPECIES</td>\n",
       "      <td>Bufo bufo (Linnaeus, 1758)</td>\n",
       "    </tr>\n",
       "    <tr>\n",
       "      <th>2</th>\n",
       "      <td>Bufonidae</td>\n",
       "      <td>Epidalea</td>\n",
       "      <td>Epidalea calamita</td>\n",
       "      <td>NaN</td>\n",
       "      <td>SPECIES</td>\n",
       "      <td>Epidalea calamita (Laurenti, 1768)</td>\n",
       "    </tr>\n",
       "    <tr>\n",
       "      <th>169</th>\n",
       "      <td>Bufonidae</td>\n",
       "      <td>Bufo</td>\n",
       "      <td>Bufo spinosus</td>\n",
       "      <td>NaN</td>\n",
       "      <td>SPECIES</td>\n",
       "      <td>Bufo spinosus Daudin, 1803</td>\n",
       "    </tr>\n",
       "    <tr>\n",
       "      <th>683</th>\n",
       "      <td>Bufonidae</td>\n",
       "      <td>Bufotes</td>\n",
       "      <td>Bufotes viridis</td>\n",
       "      <td>balearicus</td>\n",
       "      <td>SUBSPECIES</td>\n",
       "      <td>Bufotes viridis balearicus (Boettger, 1880)</td>\n",
       "    </tr>\n",
       "    <tr>\n",
       "      <th>690</th>\n",
       "      <td>Bufonidae</td>\n",
       "      <td>Bufo</td>\n",
       "      <td>Bufo verrucosissimus</td>\n",
       "      <td>NaN</td>\n",
       "      <td>SPECIES</td>\n",
       "      <td>Bufo verrucosissimus (Pallas, 1814)</td>\n",
       "    </tr>\n",
       "    <tr>\n",
       "      <th>704</th>\n",
       "      <td>Bufonidae</td>\n",
       "      <td>Bufotes</td>\n",
       "      <td>Bufotes viridis</td>\n",
       "      <td>viridis</td>\n",
       "      <td>SUBSPECIES</td>\n",
       "      <td>Bufotes viridis viridis</td>\n",
       "    </tr>\n",
       "    <tr>\n",
       "      <th>707</th>\n",
       "      <td>Bufonidae</td>\n",
       "      <td>Bufotes</td>\n",
       "      <td>Bufotes viridis</td>\n",
       "      <td>NaN</td>\n",
       "      <td>SPECIES</td>\n",
       "      <td>Bufotes viridis (Laurenti, 1768)</td>\n",
       "    </tr>\n",
       "    <tr>\n",
       "      <th>810</th>\n",
       "      <td>Bufonidae</td>\n",
       "      <td>Bufotes</td>\n",
       "      <td>Bufotes cypriensis</td>\n",
       "      <td>NaN</td>\n",
       "      <td>SPECIES</td>\n",
       "      <td>Bufotes cypriensis Litvinchuk, Mazepa, Jablons...</td>\n",
       "    </tr>\n",
       "    <tr>\n",
       "      <th>1788</th>\n",
       "      <td>Bufonidae</td>\n",
       "      <td>Epidalea</td>\n",
       "      <td>Epidalea calamita</td>\n",
       "      <td>NaN</td>\n",
       "      <td>SPECIES</td>\n",
       "      <td>Bufo calamita Laurenti, 1768</td>\n",
       "    </tr>\n",
       "    <tr>\n",
       "      <th>1793</th>\n",
       "      <td>Bufonidae</td>\n",
       "      <td>Bufotes</td>\n",
       "      <td>Bufotes viridis</td>\n",
       "      <td>NaN</td>\n",
       "      <td>SPECIES</td>\n",
       "      <td>Bufo viridis Laurenti, 1768</td>\n",
       "    </tr>\n",
       "    <tr>\n",
       "      <th>1838</th>\n",
       "      <td>Bufonidae</td>\n",
       "      <td>Bufo</td>\n",
       "      <td>Bufo bufo</td>\n",
       "      <td>bufo</td>\n",
       "      <td>SUBSPECIES</td>\n",
       "      <td>Bufo bufo bufo</td>\n",
       "    </tr>\n",
       "    <tr>\n",
       "      <th>2058</th>\n",
       "      <td>Bufonidae</td>\n",
       "      <td>Bufo</td>\n",
       "      <td>Bufo spinosus</td>\n",
       "      <td>spinosus</td>\n",
       "      <td>SUBSPECIES</td>\n",
       "      <td>Bufo bufo spinosus Daudin, 1803</td>\n",
       "    </tr>\n",
       "    <tr>\n",
       "      <th>14415</th>\n",
       "      <td>Bufonidae</td>\n",
       "      <td>Bufotes</td>\n",
       "      <td>Bufotes siculus</td>\n",
       "      <td>siculus</td>\n",
       "      <td>SUBSPECIES</td>\n",
       "      <td>Bufotes boulengeri siculus (Stöck, Sicilia, Be...</td>\n",
       "    </tr>\n",
       "    <tr>\n",
       "      <th>14759</th>\n",
       "      <td>Bufonidae</td>\n",
       "      <td>Bufotes</td>\n",
       "      <td>Bufotes boulengeri</td>\n",
       "      <td>NaN</td>\n",
       "      <td>SPECIES</td>\n",
       "      <td>Bufotes boulengeri (Lataste, 1879)</td>\n",
       "    </tr>\n",
       "    <tr>\n",
       "      <th>15037</th>\n",
       "      <td>Bufonidae</td>\n",
       "      <td>Bufo</td>\n",
       "      <td>Bufo verrucosissimus</td>\n",
       "      <td>turowi</td>\n",
       "      <td>SUBSPECIES</td>\n",
       "      <td>Bufo verrucosissimus turowi Krasovsky, 1933</td>\n",
       "    </tr>\n",
       "    <tr>\n",
       "      <th>22610</th>\n",
       "      <td>Bufonidae</td>\n",
       "      <td>Bufotes</td>\n",
       "      <td>Bufotes variabilis</td>\n",
       "      <td>NaN</td>\n",
       "      <td>SPECIES</td>\n",
       "      <td>Pseudepidalea variabilis (Pallas, 1769)</td>\n",
       "    </tr>\n",
       "    <tr>\n",
       "      <th>22794</th>\n",
       "      <td>Bufonidae</td>\n",
       "      <td>Bufotes</td>\n",
       "      <td>Bufotes viridis</td>\n",
       "      <td>NaN</td>\n",
       "      <td>SPECIES</td>\n",
       "      <td>Pseudepidalea viridis (Laurenti, 1768)</td>\n",
       "    </tr>\n",
       "    <tr>\n",
       "      <th>37613</th>\n",
       "      <td>Bufonidae</td>\n",
       "      <td>Bufotes</td>\n",
       "      <td>Bufotes balearicus</td>\n",
       "      <td>balearicus</td>\n",
       "      <td>SUBSPECIES</td>\n",
       "      <td>Bufo viridis balearicus Boettger, 1880</td>\n",
       "    </tr>\n",
       "    <tr>\n",
       "      <th>42120</th>\n",
       "      <td>Bufonidae</td>\n",
       "      <td>Bufotes</td>\n",
       "      <td>Bufotes balearicus</td>\n",
       "      <td>NaN</td>\n",
       "      <td>SPECIES</td>\n",
       "      <td>Bufotes balearicus (Boettger, 1880)</td>\n",
       "    </tr>\n",
       "    <tr>\n",
       "      <th>57327</th>\n",
       "      <td>Bufonidae</td>\n",
       "      <td>Bufotes</td>\n",
       "      <td>Bufotes variabilis</td>\n",
       "      <td>NaN</td>\n",
       "      <td>SPECIES</td>\n",
       "      <td>Bufotes variabilis (Pallas, 1769)</td>\n",
       "    </tr>\n",
       "    <tr>\n",
       "      <th>168350</th>\n",
       "      <td>Bufonidae</td>\n",
       "      <td>Bufo</td>\n",
       "      <td>Bufo bufo</td>\n",
       "      <td>NaN</td>\n",
       "      <td>SPECIES</td>\n",
       "      <td>Rana bufo Linnaeus, 1758</td>\n",
       "    </tr>\n",
       "    <tr>\n",
       "      <th>174366</th>\n",
       "      <td>Bufonidae</td>\n",
       "      <td>Bufo</td>\n",
       "      <td>Bufo japonicus</td>\n",
       "      <td>NaN</td>\n",
       "      <td>SPECIES</td>\n",
       "      <td>Bufo japonicus Temminck &amp; Schlegel, 1838</td>\n",
       "    </tr>\n",
       "    <tr>\n",
       "      <th>184992</th>\n",
       "      <td>Bufonidae</td>\n",
       "      <td>Bufotes</td>\n",
       "      <td>Bufotes viridis</td>\n",
       "      <td>viridis</td>\n",
       "      <td>SUBSPECIES</td>\n",
       "      <td>Bufo viridis viridis</td>\n",
       "    </tr>\n",
       "    <tr>\n",
       "      <th>244957</th>\n",
       "      <td>Bufonidae</td>\n",
       "      <td>Bufo</td>\n",
       "      <td>Bufo bufo</td>\n",
       "      <td>NaN</td>\n",
       "      <td>SPECIES</td>\n",
       "      <td>Rana rubeta Linnaeus, 1758</td>\n",
       "    </tr>\n",
       "    <tr>\n",
       "      <th>448891</th>\n",
       "      <td>Bufonidae</td>\n",
       "      <td>Bufo</td>\n",
       "      <td>Bufo bufo</td>\n",
       "      <td>NaN</td>\n",
       "      <td>SPECIES</td>\n",
       "      <td>Rana vulgaris (Laurenti, 1768)</td>\n",
       "    </tr>\n",
       "  </tbody>\n",
       "</table>\n",
       "</div>"
      ],
      "text/plain": [
       "           family     genus               species infraspecificEpithet  \\\n",
       "0       Bufonidae      Bufo             Bufo bufo                  NaN   \n",
       "2       Bufonidae  Epidalea     Epidalea calamita                  NaN   \n",
       "169     Bufonidae      Bufo         Bufo spinosus                  NaN   \n",
       "683     Bufonidae   Bufotes       Bufotes viridis           balearicus   \n",
       "690     Bufonidae      Bufo  Bufo verrucosissimus                  NaN   \n",
       "704     Bufonidae   Bufotes       Bufotes viridis              viridis   \n",
       "707     Bufonidae   Bufotes       Bufotes viridis                  NaN   \n",
       "810     Bufonidae   Bufotes    Bufotes cypriensis                  NaN   \n",
       "1788    Bufonidae  Epidalea     Epidalea calamita                  NaN   \n",
       "1793    Bufonidae   Bufotes       Bufotes viridis                  NaN   \n",
       "1838    Bufonidae      Bufo             Bufo bufo                 bufo   \n",
       "2058    Bufonidae      Bufo         Bufo spinosus             spinosus   \n",
       "14415   Bufonidae   Bufotes       Bufotes siculus              siculus   \n",
       "14759   Bufonidae   Bufotes    Bufotes boulengeri                  NaN   \n",
       "15037   Bufonidae      Bufo  Bufo verrucosissimus               turowi   \n",
       "22610   Bufonidae   Bufotes    Bufotes variabilis                  NaN   \n",
       "22794   Bufonidae   Bufotes       Bufotes viridis                  NaN   \n",
       "37613   Bufonidae   Bufotes    Bufotes balearicus           balearicus   \n",
       "42120   Bufonidae   Bufotes    Bufotes balearicus                  NaN   \n",
       "57327   Bufonidae   Bufotes    Bufotes variabilis                  NaN   \n",
       "168350  Bufonidae      Bufo             Bufo bufo                  NaN   \n",
       "174366  Bufonidae      Bufo        Bufo japonicus                  NaN   \n",
       "184992  Bufonidae   Bufotes       Bufotes viridis              viridis   \n",
       "244957  Bufonidae      Bufo             Bufo bufo                  NaN   \n",
       "448891  Bufonidae      Bufo             Bufo bufo                  NaN   \n",
       "\n",
       "         taxonRank                                     scientificName  \n",
       "0          SPECIES                         Bufo bufo (Linnaeus, 1758)  \n",
       "2          SPECIES                 Epidalea calamita (Laurenti, 1768)  \n",
       "169        SPECIES                         Bufo spinosus Daudin, 1803  \n",
       "683     SUBSPECIES        Bufotes viridis balearicus (Boettger, 1880)  \n",
       "690        SPECIES                Bufo verrucosissimus (Pallas, 1814)  \n",
       "704     SUBSPECIES                            Bufotes viridis viridis  \n",
       "707        SPECIES                   Bufotes viridis (Laurenti, 1768)  \n",
       "810        SPECIES  Bufotes cypriensis Litvinchuk, Mazepa, Jablons...  \n",
       "1788       SPECIES                       Bufo calamita Laurenti, 1768  \n",
       "1793       SPECIES                        Bufo viridis Laurenti, 1768  \n",
       "1838    SUBSPECIES                                     Bufo bufo bufo  \n",
       "2058    SUBSPECIES                    Bufo bufo spinosus Daudin, 1803  \n",
       "14415   SUBSPECIES  Bufotes boulengeri siculus (Stöck, Sicilia, Be...  \n",
       "14759      SPECIES                 Bufotes boulengeri (Lataste, 1879)  \n",
       "15037   SUBSPECIES        Bufo verrucosissimus turowi Krasovsky, 1933  \n",
       "22610      SPECIES            Pseudepidalea variabilis (Pallas, 1769)  \n",
       "22794      SPECIES             Pseudepidalea viridis (Laurenti, 1768)  \n",
       "37613   SUBSPECIES             Bufo viridis balearicus Boettger, 1880  \n",
       "42120      SPECIES                Bufotes balearicus (Boettger, 1880)  \n",
       "57327      SPECIES                  Bufotes variabilis (Pallas, 1769)  \n",
       "168350     SPECIES                           Rana bufo Linnaeus, 1758  \n",
       "174366     SPECIES           Bufo japonicus Temminck & Schlegel, 1838  \n",
       "184992  SUBSPECIES                               Bufo viridis viridis  \n",
       "244957     SPECIES                         Rana rubeta Linnaeus, 1758  \n",
       "448891     SPECIES                     Rana vulgaris (Laurenti, 1768)  "
      ]
     },
     "execution_count": 23,
     "metadata": {},
     "output_type": "execute_result"
    }
   ],
   "source": [
    "checklist"
   ]
  },
  {
   "cell_type": "code",
   "execution_count": 24,
   "metadata": {},
   "outputs": [
    {
     "data": {
      "text/plain": [
       "25"
      ]
     },
     "execution_count": 24,
     "metadata": {},
     "output_type": "execute_result"
    }
   ],
   "source": [
    "checklist.shape[0]"
   ]
  },
  {
   "cell_type": "code",
   "execution_count": 25,
   "metadata": {},
   "outputs": [
    {
     "name": "stdout",
     "output_type": "stream",
     "text": [
      "\n",
      "Conteo de especies por familia y género:\n",
      "      genus  count_especies\n",
      "1   Bufotes               6\n",
      "0      Bufo               4\n",
      "2  Epidalea               1\n"
     ]
    }
   ],
   "source": [
    "# Conteo de cuántas especies hay por familia y género\n",
    "especies_genero = checklist.groupby(['genus'])['species'].nunique().reset_index(name='count_especies')\n",
    "especies_genero = especies_genero.sort_values(by='count_especies', ascending=False)\n",
    "\n",
    "print(\"\\nConteo de especies por familia y género:\")\n",
    "print(especies_genero)"
   ]
  },
  {
   "cell_type": "code",
   "execution_count": 26,
   "metadata": {},
   "outputs": [
    {
     "data": {
      "text/plain": [
       "array(['Bufo bufo', 'Epidalea calamita', 'Bufo spinosus',\n",
       "       'Bufotes viridis', 'Bufo verrucosissimus', 'Bufotes cypriensis',\n",
       "       'Bufotes siculus', 'Bufotes boulengeri', 'Bufotes variabilis',\n",
       "       'Bufotes balearicus', 'Bufo japonicus'], dtype=object)"
      ]
     },
     "execution_count": 26,
     "metadata": {},
     "output_type": "execute_result"
    }
   ],
   "source": [
    "df['species'].unique()"
   ]
  },
  {
   "cell_type": "code",
   "execution_count": 27,
   "metadata": {},
   "outputs": [
    {
     "data": {
      "text/plain": [
       "11"
      ]
     },
     "execution_count": 27,
     "metadata": {},
     "output_type": "execute_result"
    }
   ],
   "source": [
    "df['species'].nunique()"
   ]
  },
  {
   "cell_type": "markdown",
   "metadata": {},
   "source": [
    "Se puede observar que en el df hay un número mayor de especies (11) que el listado revisado (6).\n",
    "\n",
    "Número de especies en la cehcklist, es decir, aquellas que tengan 'taxonRank' como 'SPECIES':"
   ]
  },
  {
   "cell_type": "code",
   "execution_count": 28,
   "metadata": {},
   "outputs": [
    {
     "data": {
      "text/html": [
       "<div>\n",
       "<style scoped>\n",
       "    .dataframe tbody tr th:only-of-type {\n",
       "        vertical-align: middle;\n",
       "    }\n",
       "\n",
       "    .dataframe tbody tr th {\n",
       "        vertical-align: top;\n",
       "    }\n",
       "\n",
       "    .dataframe thead th {\n",
       "        text-align: right;\n",
       "    }\n",
       "</style>\n",
       "<table border=\"1\" class=\"dataframe\">\n",
       "  <thead>\n",
       "    <tr style=\"text-align: right;\">\n",
       "      <th></th>\n",
       "      <th>family</th>\n",
       "      <th>genus</th>\n",
       "      <th>species</th>\n",
       "      <th>infraspecificEpithet</th>\n",
       "      <th>taxonRank</th>\n",
       "      <th>scientificName</th>\n",
       "    </tr>\n",
       "  </thead>\n",
       "  <tbody>\n",
       "    <tr>\n",
       "      <th>0</th>\n",
       "      <td>Bufonidae</td>\n",
       "      <td>Bufo</td>\n",
       "      <td>Bufo bufo</td>\n",
       "      <td>NaN</td>\n",
       "      <td>SPECIES</td>\n",
       "      <td>Bufo bufo (Linnaeus, 1758)</td>\n",
       "    </tr>\n",
       "    <tr>\n",
       "      <th>2</th>\n",
       "      <td>Bufonidae</td>\n",
       "      <td>Epidalea</td>\n",
       "      <td>Epidalea calamita</td>\n",
       "      <td>NaN</td>\n",
       "      <td>SPECIES</td>\n",
       "      <td>Epidalea calamita (Laurenti, 1768)</td>\n",
       "    </tr>\n",
       "    <tr>\n",
       "      <th>169</th>\n",
       "      <td>Bufonidae</td>\n",
       "      <td>Bufo</td>\n",
       "      <td>Bufo spinosus</td>\n",
       "      <td>NaN</td>\n",
       "      <td>SPECIES</td>\n",
       "      <td>Bufo spinosus Daudin, 1803</td>\n",
       "    </tr>\n",
       "    <tr>\n",
       "      <th>690</th>\n",
       "      <td>Bufonidae</td>\n",
       "      <td>Bufo</td>\n",
       "      <td>Bufo verrucosissimus</td>\n",
       "      <td>NaN</td>\n",
       "      <td>SPECIES</td>\n",
       "      <td>Bufo verrucosissimus (Pallas, 1814)</td>\n",
       "    </tr>\n",
       "    <tr>\n",
       "      <th>707</th>\n",
       "      <td>Bufonidae</td>\n",
       "      <td>Bufotes</td>\n",
       "      <td>Bufotes viridis</td>\n",
       "      <td>NaN</td>\n",
       "      <td>SPECIES</td>\n",
       "      <td>Bufotes viridis (Laurenti, 1768)</td>\n",
       "    </tr>\n",
       "    <tr>\n",
       "      <th>810</th>\n",
       "      <td>Bufonidae</td>\n",
       "      <td>Bufotes</td>\n",
       "      <td>Bufotes cypriensis</td>\n",
       "      <td>NaN</td>\n",
       "      <td>SPECIES</td>\n",
       "      <td>Bufotes cypriensis Litvinchuk, Mazepa, Jablons...</td>\n",
       "    </tr>\n",
       "    <tr>\n",
       "      <th>1788</th>\n",
       "      <td>Bufonidae</td>\n",
       "      <td>Epidalea</td>\n",
       "      <td>Epidalea calamita</td>\n",
       "      <td>NaN</td>\n",
       "      <td>SPECIES</td>\n",
       "      <td>Bufo calamita Laurenti, 1768</td>\n",
       "    </tr>\n",
       "    <tr>\n",
       "      <th>1793</th>\n",
       "      <td>Bufonidae</td>\n",
       "      <td>Bufotes</td>\n",
       "      <td>Bufotes viridis</td>\n",
       "      <td>NaN</td>\n",
       "      <td>SPECIES</td>\n",
       "      <td>Bufo viridis Laurenti, 1768</td>\n",
       "    </tr>\n",
       "    <tr>\n",
       "      <th>14759</th>\n",
       "      <td>Bufonidae</td>\n",
       "      <td>Bufotes</td>\n",
       "      <td>Bufotes boulengeri</td>\n",
       "      <td>NaN</td>\n",
       "      <td>SPECIES</td>\n",
       "      <td>Bufotes boulengeri (Lataste, 1879)</td>\n",
       "    </tr>\n",
       "    <tr>\n",
       "      <th>22610</th>\n",
       "      <td>Bufonidae</td>\n",
       "      <td>Bufotes</td>\n",
       "      <td>Bufotes variabilis</td>\n",
       "      <td>NaN</td>\n",
       "      <td>SPECIES</td>\n",
       "      <td>Pseudepidalea variabilis (Pallas, 1769)</td>\n",
       "    </tr>\n",
       "    <tr>\n",
       "      <th>22794</th>\n",
       "      <td>Bufonidae</td>\n",
       "      <td>Bufotes</td>\n",
       "      <td>Bufotes viridis</td>\n",
       "      <td>NaN</td>\n",
       "      <td>SPECIES</td>\n",
       "      <td>Pseudepidalea viridis (Laurenti, 1768)</td>\n",
       "    </tr>\n",
       "    <tr>\n",
       "      <th>42120</th>\n",
       "      <td>Bufonidae</td>\n",
       "      <td>Bufotes</td>\n",
       "      <td>Bufotes balearicus</td>\n",
       "      <td>NaN</td>\n",
       "      <td>SPECIES</td>\n",
       "      <td>Bufotes balearicus (Boettger, 1880)</td>\n",
       "    </tr>\n",
       "    <tr>\n",
       "      <th>57327</th>\n",
       "      <td>Bufonidae</td>\n",
       "      <td>Bufotes</td>\n",
       "      <td>Bufotes variabilis</td>\n",
       "      <td>NaN</td>\n",
       "      <td>SPECIES</td>\n",
       "      <td>Bufotes variabilis (Pallas, 1769)</td>\n",
       "    </tr>\n",
       "    <tr>\n",
       "      <th>168350</th>\n",
       "      <td>Bufonidae</td>\n",
       "      <td>Bufo</td>\n",
       "      <td>Bufo bufo</td>\n",
       "      <td>NaN</td>\n",
       "      <td>SPECIES</td>\n",
       "      <td>Rana bufo Linnaeus, 1758</td>\n",
       "    </tr>\n",
       "    <tr>\n",
       "      <th>174366</th>\n",
       "      <td>Bufonidae</td>\n",
       "      <td>Bufo</td>\n",
       "      <td>Bufo japonicus</td>\n",
       "      <td>NaN</td>\n",
       "      <td>SPECIES</td>\n",
       "      <td>Bufo japonicus Temminck &amp; Schlegel, 1838</td>\n",
       "    </tr>\n",
       "    <tr>\n",
       "      <th>244957</th>\n",
       "      <td>Bufonidae</td>\n",
       "      <td>Bufo</td>\n",
       "      <td>Bufo bufo</td>\n",
       "      <td>NaN</td>\n",
       "      <td>SPECIES</td>\n",
       "      <td>Rana rubeta Linnaeus, 1758</td>\n",
       "    </tr>\n",
       "    <tr>\n",
       "      <th>448891</th>\n",
       "      <td>Bufonidae</td>\n",
       "      <td>Bufo</td>\n",
       "      <td>Bufo bufo</td>\n",
       "      <td>NaN</td>\n",
       "      <td>SPECIES</td>\n",
       "      <td>Rana vulgaris (Laurenti, 1768)</td>\n",
       "    </tr>\n",
       "  </tbody>\n",
       "</table>\n",
       "</div>"
      ],
      "text/plain": [
       "           family     genus               species infraspecificEpithet  \\\n",
       "0       Bufonidae      Bufo             Bufo bufo                  NaN   \n",
       "2       Bufonidae  Epidalea     Epidalea calamita                  NaN   \n",
       "169     Bufonidae      Bufo         Bufo spinosus                  NaN   \n",
       "690     Bufonidae      Bufo  Bufo verrucosissimus                  NaN   \n",
       "707     Bufonidae   Bufotes       Bufotes viridis                  NaN   \n",
       "810     Bufonidae   Bufotes    Bufotes cypriensis                  NaN   \n",
       "1788    Bufonidae  Epidalea     Epidalea calamita                  NaN   \n",
       "1793    Bufonidae   Bufotes       Bufotes viridis                  NaN   \n",
       "14759   Bufonidae   Bufotes    Bufotes boulengeri                  NaN   \n",
       "22610   Bufonidae   Bufotes    Bufotes variabilis                  NaN   \n",
       "22794   Bufonidae   Bufotes       Bufotes viridis                  NaN   \n",
       "42120   Bufonidae   Bufotes    Bufotes balearicus                  NaN   \n",
       "57327   Bufonidae   Bufotes    Bufotes variabilis                  NaN   \n",
       "168350  Bufonidae      Bufo             Bufo bufo                  NaN   \n",
       "174366  Bufonidae      Bufo        Bufo japonicus                  NaN   \n",
       "244957  Bufonidae      Bufo             Bufo bufo                  NaN   \n",
       "448891  Bufonidae      Bufo             Bufo bufo                  NaN   \n",
       "\n",
       "       taxonRank                                     scientificName  \n",
       "0        SPECIES                         Bufo bufo (Linnaeus, 1758)  \n",
       "2        SPECIES                 Epidalea calamita (Laurenti, 1768)  \n",
       "169      SPECIES                         Bufo spinosus Daudin, 1803  \n",
       "690      SPECIES                Bufo verrucosissimus (Pallas, 1814)  \n",
       "707      SPECIES                   Bufotes viridis (Laurenti, 1768)  \n",
       "810      SPECIES  Bufotes cypriensis Litvinchuk, Mazepa, Jablons...  \n",
       "1788     SPECIES                       Bufo calamita Laurenti, 1768  \n",
       "1793     SPECIES                        Bufo viridis Laurenti, 1768  \n",
       "14759    SPECIES                 Bufotes boulengeri (Lataste, 1879)  \n",
       "22610    SPECIES            Pseudepidalea variabilis (Pallas, 1769)  \n",
       "22794    SPECIES             Pseudepidalea viridis (Laurenti, 1768)  \n",
       "42120    SPECIES                Bufotes balearicus (Boettger, 1880)  \n",
       "57327    SPECIES                  Bufotes variabilis (Pallas, 1769)  \n",
       "168350   SPECIES                           Rana bufo Linnaeus, 1758  \n",
       "174366   SPECIES           Bufo japonicus Temminck & Schlegel, 1838  \n",
       "244957   SPECIES                         Rana rubeta Linnaeus, 1758  \n",
       "448891   SPECIES                     Rana vulgaris (Laurenti, 1768)  "
      ]
     },
     "execution_count": 28,
     "metadata": {},
     "output_type": "execute_result"
    }
   ],
   "source": [
    "species_checklist = checklist[(checklist['taxonRank'] == 'SPECIES')]\n",
    "species_checklist"
   ]
  },
  {
   "cell_type": "code",
   "execution_count": 29,
   "metadata": {},
   "outputs": [
    {
     "data": {
      "text/plain": [
       "17"
      ]
     },
     "execution_count": 29,
     "metadata": {},
     "output_type": "execute_result"
    }
   ],
   "source": [
    "species_checklist.shape[0]"
   ]
  },
  {
   "cell_type": "markdown",
   "metadata": {},
   "source": [
    "### Procesamiento y estandarización de la 'species_checklist'\n",
    "\n",
    "Se pretenden añadir información adicional del backbone taxon de GBIF correspondiente a los nombres científicos presentes en el DataFrame 'species_checklist'.\n",
    "\n",
    "El \"backbone taxon\" de GBIF es una taxonomía jerárquica que proporciona una referencia estándar para los nombres científicos de las especies y sus relaciones taxonómicas.\n",
    "La función *species.name_backbone()* se utiliza para obtener información detallada sobre un nombre científico desde el \"backbone taxon\" de GBIF"
   ]
  },
  {
   "cell_type": "code",
   "execution_count": 30,
   "metadata": {},
   "outputs": [
    {
     "data": {
      "text/plain": [
       "array(['Bufo bufo (Linnaeus, 1758)', 'Epidalea calamita (Laurenti, 1768)',\n",
       "       'Bufo spinosus Daudin, 1803',\n",
       "       'Bufo verrucosissimus (Pallas, 1814)',\n",
       "       'Bufotes viridis (Laurenti, 1768)',\n",
       "       'Bufotes cypriensis Litvinchuk, Mazepa, Jablonski & Dufresnes, 2019',\n",
       "       'Bufo calamita Laurenti, 1768', 'Bufo viridis Laurenti, 1768',\n",
       "       'Bufotes boulengeri (Lataste, 1879)',\n",
       "       'Pseudepidalea variabilis (Pallas, 1769)',\n",
       "       'Pseudepidalea viridis (Laurenti, 1768)',\n",
       "       'Bufotes balearicus (Boettger, 1880)',\n",
       "       'Bufotes variabilis (Pallas, 1769)', 'Rana bufo Linnaeus, 1758',\n",
       "       'Bufo japonicus Temminck & Schlegel, 1838',\n",
       "       'Rana rubeta Linnaeus, 1758', 'Rana vulgaris (Laurenti, 1768)'],\n",
       "      dtype=object)"
      ]
     },
     "execution_count": 30,
     "metadata": {},
     "output_type": "execute_result"
    }
   ],
   "source": [
    "species_checklist.reset_index(drop=True, inplace=True)\n",
    "\n",
    "# Crear una lista de nombres científicos únicos\n",
    "lista_nombres = species_checklist['scientificName'].unique()\n",
    "lista_nombres"
   ]
  },
  {
   "cell_type": "code",
   "execution_count": 31,
   "metadata": {},
   "outputs": [],
   "source": [
    "# Inicializar listas para almacenar los datos del backbone taxon de GBIF\n",
    "status = []\n",
    "match_type = []\n",
    "species_gbif = []\n",
    "\n",
    "# Iterar sobre cada nombre científico único\n",
    "for nombre in lista_nombres:\n",
    "    try:\n",
    "        # Obtener información del backbone taxon de GBIF para el nombre científico\n",
    "        info_gbif = species.name_backbone(name=nombre)\n",
    "        \n",
    "        # Extraer los datos relevantes y agregarlos a las listas\n",
    "        status.append(info_gbif['status'])\n",
    "        match_type.append(info_gbif['matchType'])\n",
    "        \n",
    "        # Manejar el caso en el que 'species' no esté presente en el resultado\n",
    "        species_value = info_gbif.get('species', 'N/A')\n",
    "        species_gbif.append(species_value)\n",
    "    except Exception as e:\n",
    "        # Si hay un error al obtener la información, imprimirlo y continuar con el siguiente nombre\n",
    "        print(f\"Error al obtener información de GBIF para '{nombre}': {e}\")\n",
    "\n",
    "# Crear un DataFrame con los datos del backbone taxon de GBIF\n",
    "gbif_stand = pd.DataFrame({'gbif_status': status, 'gbif_matchType': match_type, 'gbif_species': species_gbif})\n",
    "\n",
    "\n",
    "gbif_stand.reset_index(drop=True, inplace=True)\n",
    "\n",
    "# Concatenar el DataFrame 'checklist' y el DataFrame 'gbif_stand' horizontalmente\n",
    "species_checklist_v2 = pd.concat([species_checklist, gbif_stand], axis=1)"
   ]
  },
  {
   "cell_type": "code",
   "execution_count": 32,
   "metadata": {},
   "outputs": [
    {
     "data": {
      "text/plain": [
       "family                   0\n",
       "genus                    0\n",
       "species                  0\n",
       "infraspecificEpithet    17\n",
       "taxonRank                0\n",
       "scientificName           0\n",
       "gbif_status              0\n",
       "gbif_matchType           0\n",
       "gbif_species             0\n",
       "dtype: int64"
      ]
     },
     "execution_count": 32,
     "metadata": {},
     "output_type": "execute_result"
    }
   ],
   "source": [
    "# Contar los valores NaN por columna\n",
    "species_checklist_v2_num_nans = species_checklist_v2.isna().sum()\n",
    "species_checklist_v2_num_nans"
   ]
  },
  {
   "cell_type": "code",
   "execution_count": 33,
   "metadata": {},
   "outputs": [
    {
     "data": {
      "text/plain": [
       "array(['ACCEPTED', 'SYNONYM'], dtype=object)"
      ]
     },
     "execution_count": 33,
     "metadata": {},
     "output_type": "execute_result"
    }
   ],
   "source": [
    "list_gbif_status = species_checklist_v2['gbif_status'].unique()\n",
    "list_gbif_status"
   ]
  },
  {
   "cell_type": "markdown",
   "metadata": {},
   "source": [
    "Se seleccionan solo los nombres cientificos que estan etiquetados como 'ACCEPTED' o 'SYNONYM', que en este caso son todos los registros."
   ]
  },
  {
   "cell_type": "code",
   "execution_count": 34,
   "metadata": {},
   "outputs": [],
   "source": [
    "species_checklist_v2 = species_checklist_v2[(species_checklist_v2['gbif_status']=='ACCEPTED')|\n",
    "                                            (species_checklist_v2['gbif_status']=='SYNONYM')]"
   ]
  },
  {
   "cell_type": "code",
   "execution_count": 35,
   "metadata": {},
   "outputs": [
    {
     "data": {
      "text/plain": [
       "17"
      ]
     },
     "execution_count": 35,
     "metadata": {},
     "output_type": "execute_result"
    }
   ],
   "source": [
    "species_checklist_v2.shape[0] #Solo con 'gbif_status' == 'ACCEPTED' & 'SYNONYM'"
   ]
  },
  {
   "cell_type": "code",
   "execution_count": 36,
   "metadata": {},
   "outputs": [
    {
     "data": {
      "text/html": [
       "<div>\n",
       "<style scoped>\n",
       "    .dataframe tbody tr th:only-of-type {\n",
       "        vertical-align: middle;\n",
       "    }\n",
       "\n",
       "    .dataframe tbody tr th {\n",
       "        vertical-align: top;\n",
       "    }\n",
       "\n",
       "    .dataframe thead th {\n",
       "        text-align: right;\n",
       "    }\n",
       "</style>\n",
       "<table border=\"1\" class=\"dataframe\">\n",
       "  <thead>\n",
       "    <tr style=\"text-align: right;\">\n",
       "      <th></th>\n",
       "      <th>family</th>\n",
       "      <th>genus</th>\n",
       "      <th>species</th>\n",
       "      <th>infraspecificEpithet</th>\n",
       "      <th>taxonRank</th>\n",
       "      <th>scientificName</th>\n",
       "      <th>gbif_status</th>\n",
       "      <th>gbif_matchType</th>\n",
       "      <th>gbif_species</th>\n",
       "    </tr>\n",
       "  </thead>\n",
       "  <tbody>\n",
       "    <tr>\n",
       "      <th>0</th>\n",
       "      <td>Bufonidae</td>\n",
       "      <td>Bufo</td>\n",
       "      <td>Bufo bufo</td>\n",
       "      <td>NaN</td>\n",
       "      <td>SPECIES</td>\n",
       "      <td>Bufo bufo (Linnaeus, 1758)</td>\n",
       "      <td>ACCEPTED</td>\n",
       "      <td>EXACT</td>\n",
       "      <td>Bufo bufo</td>\n",
       "    </tr>\n",
       "    <tr>\n",
       "      <th>13</th>\n",
       "      <td>Bufonidae</td>\n",
       "      <td>Bufo</td>\n",
       "      <td>Bufo bufo</td>\n",
       "      <td>NaN</td>\n",
       "      <td>SPECIES</td>\n",
       "      <td>Rana bufo Linnaeus, 1758</td>\n",
       "      <td>SYNONYM</td>\n",
       "      <td>EXACT</td>\n",
       "      <td>Bufo bufo</td>\n",
       "    </tr>\n",
       "    <tr>\n",
       "      <th>15</th>\n",
       "      <td>Bufonidae</td>\n",
       "      <td>Bufo</td>\n",
       "      <td>Bufo bufo</td>\n",
       "      <td>NaN</td>\n",
       "      <td>SPECIES</td>\n",
       "      <td>Rana rubeta Linnaeus, 1758</td>\n",
       "      <td>SYNONYM</td>\n",
       "      <td>EXACT</td>\n",
       "      <td>Bufo bufo</td>\n",
       "    </tr>\n",
       "    <tr>\n",
       "      <th>16</th>\n",
       "      <td>Bufonidae</td>\n",
       "      <td>Bufo</td>\n",
       "      <td>Bufo bufo</td>\n",
       "      <td>NaN</td>\n",
       "      <td>SPECIES</td>\n",
       "      <td>Rana vulgaris (Laurenti, 1768)</td>\n",
       "      <td>SYNONYM</td>\n",
       "      <td>EXACT</td>\n",
       "      <td>Bufo bufo</td>\n",
       "    </tr>\n",
       "    <tr>\n",
       "      <th>14</th>\n",
       "      <td>Bufonidae</td>\n",
       "      <td>Bufo</td>\n",
       "      <td>Bufo japonicus</td>\n",
       "      <td>NaN</td>\n",
       "      <td>SPECIES</td>\n",
       "      <td>Bufo japonicus Temminck &amp; Schlegel, 1838</td>\n",
       "      <td>ACCEPTED</td>\n",
       "      <td>EXACT</td>\n",
       "      <td>Bufo japonicus</td>\n",
       "    </tr>\n",
       "    <tr>\n",
       "      <th>2</th>\n",
       "      <td>Bufonidae</td>\n",
       "      <td>Bufo</td>\n",
       "      <td>Bufo spinosus</td>\n",
       "      <td>NaN</td>\n",
       "      <td>SPECIES</td>\n",
       "      <td>Bufo spinosus Daudin, 1803</td>\n",
       "      <td>ACCEPTED</td>\n",
       "      <td>EXACT</td>\n",
       "      <td>Bufo spinosus</td>\n",
       "    </tr>\n",
       "    <tr>\n",
       "      <th>3</th>\n",
       "      <td>Bufonidae</td>\n",
       "      <td>Bufo</td>\n",
       "      <td>Bufo verrucosissimus</td>\n",
       "      <td>NaN</td>\n",
       "      <td>SPECIES</td>\n",
       "      <td>Bufo verrucosissimus (Pallas, 1814)</td>\n",
       "      <td>ACCEPTED</td>\n",
       "      <td>EXACT</td>\n",
       "      <td>Bufo verrucosissimus</td>\n",
       "    </tr>\n",
       "    <tr>\n",
       "      <th>11</th>\n",
       "      <td>Bufonidae</td>\n",
       "      <td>Bufotes</td>\n",
       "      <td>Bufotes balearicus</td>\n",
       "      <td>NaN</td>\n",
       "      <td>SPECIES</td>\n",
       "      <td>Bufotes balearicus (Boettger, 1880)</td>\n",
       "      <td>ACCEPTED</td>\n",
       "      <td>EXACT</td>\n",
       "      <td>Bufotes balearicus</td>\n",
       "    </tr>\n",
       "    <tr>\n",
       "      <th>8</th>\n",
       "      <td>Bufonidae</td>\n",
       "      <td>Bufotes</td>\n",
       "      <td>Bufotes boulengeri</td>\n",
       "      <td>NaN</td>\n",
       "      <td>SPECIES</td>\n",
       "      <td>Bufotes boulengeri (Lataste, 1879)</td>\n",
       "      <td>ACCEPTED</td>\n",
       "      <td>EXACT</td>\n",
       "      <td>Bufotes boulengeri</td>\n",
       "    </tr>\n",
       "    <tr>\n",
       "      <th>5</th>\n",
       "      <td>Bufonidae</td>\n",
       "      <td>Bufotes</td>\n",
       "      <td>Bufotes cypriensis</td>\n",
       "      <td>NaN</td>\n",
       "      <td>SPECIES</td>\n",
       "      <td>Bufotes cypriensis Litvinchuk, Mazepa, Jablons...</td>\n",
       "      <td>ACCEPTED</td>\n",
       "      <td>EXACT</td>\n",
       "      <td>Bufotes cypriensis</td>\n",
       "    </tr>\n",
       "    <tr>\n",
       "      <th>9</th>\n",
       "      <td>Bufonidae</td>\n",
       "      <td>Bufotes</td>\n",
       "      <td>Bufotes variabilis</td>\n",
       "      <td>NaN</td>\n",
       "      <td>SPECIES</td>\n",
       "      <td>Pseudepidalea variabilis (Pallas, 1769)</td>\n",
       "      <td>SYNONYM</td>\n",
       "      <td>EXACT</td>\n",
       "      <td>Bufotes variabilis</td>\n",
       "    </tr>\n",
       "    <tr>\n",
       "      <th>12</th>\n",
       "      <td>Bufonidae</td>\n",
       "      <td>Bufotes</td>\n",
       "      <td>Bufotes variabilis</td>\n",
       "      <td>NaN</td>\n",
       "      <td>SPECIES</td>\n",
       "      <td>Bufotes variabilis (Pallas, 1769)</td>\n",
       "      <td>ACCEPTED</td>\n",
       "      <td>EXACT</td>\n",
       "      <td>Bufotes variabilis</td>\n",
       "    </tr>\n",
       "    <tr>\n",
       "      <th>4</th>\n",
       "      <td>Bufonidae</td>\n",
       "      <td>Bufotes</td>\n",
       "      <td>Bufotes viridis</td>\n",
       "      <td>NaN</td>\n",
       "      <td>SPECIES</td>\n",
       "      <td>Bufotes viridis (Laurenti, 1768)</td>\n",
       "      <td>ACCEPTED</td>\n",
       "      <td>EXACT</td>\n",
       "      <td>Bufotes viridis</td>\n",
       "    </tr>\n",
       "    <tr>\n",
       "      <th>7</th>\n",
       "      <td>Bufonidae</td>\n",
       "      <td>Bufotes</td>\n",
       "      <td>Bufotes viridis</td>\n",
       "      <td>NaN</td>\n",
       "      <td>SPECIES</td>\n",
       "      <td>Bufo viridis Laurenti, 1768</td>\n",
       "      <td>SYNONYM</td>\n",
       "      <td>EXACT</td>\n",
       "      <td>Bufotes viridis</td>\n",
       "    </tr>\n",
       "    <tr>\n",
       "      <th>10</th>\n",
       "      <td>Bufonidae</td>\n",
       "      <td>Bufotes</td>\n",
       "      <td>Bufotes viridis</td>\n",
       "      <td>NaN</td>\n",
       "      <td>SPECIES</td>\n",
       "      <td>Pseudepidalea viridis (Laurenti, 1768)</td>\n",
       "      <td>SYNONYM</td>\n",
       "      <td>EXACT</td>\n",
       "      <td>Bufotes viridis</td>\n",
       "    </tr>\n",
       "    <tr>\n",
       "      <th>1</th>\n",
       "      <td>Bufonidae</td>\n",
       "      <td>Epidalea</td>\n",
       "      <td>Epidalea calamita</td>\n",
       "      <td>NaN</td>\n",
       "      <td>SPECIES</td>\n",
       "      <td>Epidalea calamita (Laurenti, 1768)</td>\n",
       "      <td>ACCEPTED</td>\n",
       "      <td>EXACT</td>\n",
       "      <td>Epidalea calamita</td>\n",
       "    </tr>\n",
       "    <tr>\n",
       "      <th>6</th>\n",
       "      <td>Bufonidae</td>\n",
       "      <td>Epidalea</td>\n",
       "      <td>Epidalea calamita</td>\n",
       "      <td>NaN</td>\n",
       "      <td>SPECIES</td>\n",
       "      <td>Bufo calamita Laurenti, 1768</td>\n",
       "      <td>SYNONYM</td>\n",
       "      <td>EXACT</td>\n",
       "      <td>Epidalea calamita</td>\n",
       "    </tr>\n",
       "  </tbody>\n",
       "</table>\n",
       "</div>"
      ],
      "text/plain": [
       "       family     genus               species infraspecificEpithet taxonRank  \\\n",
       "0   Bufonidae      Bufo             Bufo bufo                  NaN   SPECIES   \n",
       "13  Bufonidae      Bufo             Bufo bufo                  NaN   SPECIES   \n",
       "15  Bufonidae      Bufo             Bufo bufo                  NaN   SPECIES   \n",
       "16  Bufonidae      Bufo             Bufo bufo                  NaN   SPECIES   \n",
       "14  Bufonidae      Bufo        Bufo japonicus                  NaN   SPECIES   \n",
       "2   Bufonidae      Bufo         Bufo spinosus                  NaN   SPECIES   \n",
       "3   Bufonidae      Bufo  Bufo verrucosissimus                  NaN   SPECIES   \n",
       "11  Bufonidae   Bufotes    Bufotes balearicus                  NaN   SPECIES   \n",
       "8   Bufonidae   Bufotes    Bufotes boulengeri                  NaN   SPECIES   \n",
       "5   Bufonidae   Bufotes    Bufotes cypriensis                  NaN   SPECIES   \n",
       "9   Bufonidae   Bufotes    Bufotes variabilis                  NaN   SPECIES   \n",
       "12  Bufonidae   Bufotes    Bufotes variabilis                  NaN   SPECIES   \n",
       "4   Bufonidae   Bufotes       Bufotes viridis                  NaN   SPECIES   \n",
       "7   Bufonidae   Bufotes       Bufotes viridis                  NaN   SPECIES   \n",
       "10  Bufonidae   Bufotes       Bufotes viridis                  NaN   SPECIES   \n",
       "1   Bufonidae  Epidalea     Epidalea calamita                  NaN   SPECIES   \n",
       "6   Bufonidae  Epidalea     Epidalea calamita                  NaN   SPECIES   \n",
       "\n",
       "                                       scientificName gbif_status  \\\n",
       "0                          Bufo bufo (Linnaeus, 1758)    ACCEPTED   \n",
       "13                           Rana bufo Linnaeus, 1758     SYNONYM   \n",
       "15                         Rana rubeta Linnaeus, 1758     SYNONYM   \n",
       "16                     Rana vulgaris (Laurenti, 1768)     SYNONYM   \n",
       "14           Bufo japonicus Temminck & Schlegel, 1838    ACCEPTED   \n",
       "2                          Bufo spinosus Daudin, 1803    ACCEPTED   \n",
       "3                 Bufo verrucosissimus (Pallas, 1814)    ACCEPTED   \n",
       "11                Bufotes balearicus (Boettger, 1880)    ACCEPTED   \n",
       "8                  Bufotes boulengeri (Lataste, 1879)    ACCEPTED   \n",
       "5   Bufotes cypriensis Litvinchuk, Mazepa, Jablons...    ACCEPTED   \n",
       "9             Pseudepidalea variabilis (Pallas, 1769)     SYNONYM   \n",
       "12                  Bufotes variabilis (Pallas, 1769)    ACCEPTED   \n",
       "4                    Bufotes viridis (Laurenti, 1768)    ACCEPTED   \n",
       "7                         Bufo viridis Laurenti, 1768     SYNONYM   \n",
       "10             Pseudepidalea viridis (Laurenti, 1768)     SYNONYM   \n",
       "1                  Epidalea calamita (Laurenti, 1768)    ACCEPTED   \n",
       "6                        Bufo calamita Laurenti, 1768     SYNONYM   \n",
       "\n",
       "   gbif_matchType          gbif_species  \n",
       "0           EXACT             Bufo bufo  \n",
       "13          EXACT             Bufo bufo  \n",
       "15          EXACT             Bufo bufo  \n",
       "16          EXACT             Bufo bufo  \n",
       "14          EXACT        Bufo japonicus  \n",
       "2           EXACT         Bufo spinosus  \n",
       "3           EXACT  Bufo verrucosissimus  \n",
       "11          EXACT    Bufotes balearicus  \n",
       "8           EXACT    Bufotes boulengeri  \n",
       "5           EXACT    Bufotes cypriensis  \n",
       "9           EXACT    Bufotes variabilis  \n",
       "12          EXACT    Bufotes variabilis  \n",
       "4           EXACT       Bufotes viridis  \n",
       "7           EXACT       Bufotes viridis  \n",
       "10          EXACT       Bufotes viridis  \n",
       "1           EXACT     Epidalea calamita  \n",
       "6           EXACT     Epidalea calamita  "
      ]
     },
     "execution_count": 36,
     "metadata": {},
     "output_type": "execute_result"
    }
   ],
   "source": [
    "species_checklist_v2 = species_checklist_v2.sort_values(['family', 'genus', 'species'])\n",
    "species_checklist_v2"
   ]
  },
  {
   "cell_type": "code",
   "execution_count": 37,
   "metadata": {},
   "outputs": [
    {
     "data": {
      "text/plain": [
       "17"
      ]
     },
     "execution_count": 37,
     "metadata": {},
     "output_type": "execute_result"
    }
   ],
   "source": [
    "species_checklist_v2.shape[0]"
   ]
  },
  {
   "cell_type": "markdown",
   "metadata": {},
   "source": [
    "Como se ha mencionado previamente, en el listado de nombres cientificos unicos relacionados con los aceptados o sinonimos de GBIF, se observa un mayor numero de especies respecto al listado propuesto por Speybroeck et al (2020) para las especies europeas de Bufonidae. El listado de Speybroeck consta de 6 especies, mientras que el listado de nombres taxonomicos revisado a partir de la red troncal de GBIF consta de 17 nombres cientificos. No obstante, a simplevista puede observarse como algunas especies constan de mas de un nombre cientifico asignado, principalmente por ser clasificadas como sinonimos o erratas en la escritura.\n",
    "\n",
    "Por ejemplo, para la especie '*Bufo bufo* (Linnaeus, 1758)' se observan varios registros con diferente nombre cienitifico y estado de GBIF. Esta el registro del nombre cientifico aceptado '*Bufo bufo* (Linnaeus, 1758)' y registros correspondientes a distintos sinonimos.\n",
    "\n",
    "Para solucionar estos errores taxonomicos, se realizará una revisión manual del listado revisado con la red troncal de GBIF,\"species_checklist_v2\", respecto al listado taxonomico de Speybroeck et al (2020)."
   ]
  },
  {
   "cell_type": "code",
   "execution_count": 38,
   "metadata": {},
   "outputs": [],
   "source": [
    "#species_checklist_v2.to_csv('01_PREPROCESADO/species_checklist_v2.csv', index=False, encoding='utf-8-sig')"
   ]
  },
  {
   "cell_type": "markdown",
   "metadata": {},
   "source": [
    "### Correción de registros taxonomicos erroneos\n",
    "\n",
    "Tras realizar una revisión manual de los listados, se ha observado que algunas especies aceptadas por GBIF no son realmente especies.\n",
    "\n",
    "Como resultado de la revisión taxonomica se ha desarollado una tabla en la cual figuran los nombres de las especies que deben ser modificados y corregidos por el nombre que realmente les corresponde."
   ]
  },
  {
   "cell_type": "code",
   "execution_count": 39,
   "metadata": {},
   "outputs": [
    {
     "data": {
      "text/html": [
       "<div>\n",
       "<style scoped>\n",
       "    .dataframe tbody tr th:only-of-type {\n",
       "        vertical-align: middle;\n",
       "    }\n",
       "\n",
       "    .dataframe tbody tr th {\n",
       "        vertical-align: top;\n",
       "    }\n",
       "\n",
       "    .dataframe thead th {\n",
       "        text-align: right;\n",
       "    }\n",
       "</style>\n",
       "<table border=\"1\" class=\"dataframe\">\n",
       "  <thead>\n",
       "    <tr style=\"text-align: right;\">\n",
       "      <th></th>\n",
       "      <th>Species</th>\n",
       "      <th>Corrections</th>\n",
       "      <th>Reason</th>\n",
       "    </tr>\n",
       "  </thead>\n",
       "  <tbody>\n",
       "    <tr>\n",
       "      <th>0</th>\n",
       "      <td>Bufotes balearicus</td>\n",
       "      <td>Bufotes viridis</td>\n",
       "      <td>Subspecies of B. viridis</td>\n",
       "    </tr>\n",
       "    <tr>\n",
       "      <th>1</th>\n",
       "      <td>Bufotes variabilis</td>\n",
       "      <td>Bufotes viridis</td>\n",
       "      <td>Subspecies of B. viridis</td>\n",
       "    </tr>\n",
       "    <tr>\n",
       "      <th>2</th>\n",
       "      <td>Bufotes sitibundus</td>\n",
       "      <td>Bufotes viridis</td>\n",
       "      <td>Subspecies of B. viridis</td>\n",
       "    </tr>\n",
       "  </tbody>\n",
       "</table>\n",
       "</div>"
      ],
      "text/plain": [
       "              Species      Corrections                    Reason\n",
       "0  Bufotes balearicus  Bufotes viridis  Subspecies of B. viridis\n",
       "1  Bufotes variabilis  Bufotes viridis  Subspecies of B. viridis\n",
       "2  Bufotes sitibundus  Bufotes viridis  Subspecies of B. viridis"
      ]
     },
     "execution_count": 39,
     "metadata": {},
     "output_type": "execute_result"
    }
   ],
   "source": [
    "sp = [ 'Bufotes balearicus', 'Bufotes variabilis', 'Bufotes sitibundus']\n",
    "corrections = [ 'Bufotes viridis', 'Bufotes viridis','Bufotes viridis']\n",
    "reason = ['Subspecies of B. viridis', 'Subspecies of B. viridis', 'Subspecies of B. viridis']\n",
    "\n",
    "taxonomic_corrections = pd.DataFrame({'Species': sp, 'Corrections': corrections, 'Reason': reason})\n",
    "taxonomic_corrections"
   ]
  },
  {
   "cell_type": "code",
   "execution_count": 40,
   "metadata": {},
   "outputs": [
    {
     "data": {
      "text/html": [
       "<div>\n",
       "<style scoped>\n",
       "    .dataframe tbody tr th:only-of-type {\n",
       "        vertical-align: middle;\n",
       "    }\n",
       "\n",
       "    .dataframe tbody tr th {\n",
       "        vertical-align: top;\n",
       "    }\n",
       "\n",
       "    .dataframe thead th {\n",
       "        text-align: right;\n",
       "    }\n",
       "</style>\n",
       "<table border=\"1\" class=\"dataframe\">\n",
       "  <thead>\n",
       "    <tr style=\"text-align: right;\">\n",
       "      <th></th>\n",
       "      <th>gbifID</th>\n",
       "      <th>family</th>\n",
       "      <th>genus</th>\n",
       "      <th>species</th>\n",
       "      <th>infraspecificEpithet</th>\n",
       "      <th>taxonRank</th>\n",
       "      <th>scientificName</th>\n",
       "      <th>countryCode</th>\n",
       "      <th>locality</th>\n",
       "      <th>stateProvince</th>\n",
       "      <th>...</th>\n",
       "      <th>decimalLongitude</th>\n",
       "      <th>coordinatePrecision</th>\n",
       "      <th>eventDate</th>\n",
       "      <th>day</th>\n",
       "      <th>month</th>\n",
       "      <th>year</th>\n",
       "      <th>occurrenceStatus</th>\n",
       "      <th>basisOfRecord</th>\n",
       "      <th>recordedBy</th>\n",
       "      <th>issue</th>\n",
       "    </tr>\n",
       "  </thead>\n",
       "  <tbody>\n",
       "    <tr>\n",
       "      <th>22610</th>\n",
       "      <td>2329622469</td>\n",
       "      <td>Bufonidae</td>\n",
       "      <td>Bufotes</td>\n",
       "      <td>Bufotes variabilis</td>\n",
       "      <td>NaN</td>\n",
       "      <td>SPECIES</td>\n",
       "      <td>Pseudepidalea variabilis (Pallas, 1769)</td>\n",
       "      <td>GE</td>\n",
       "      <td>UTM50_38T_0450_4700</td>\n",
       "      <td>NaN</td>\n",
       "      <td>...</td>\n",
       "      <td>44.639481</td>\n",
       "      <td>NaN</td>\n",
       "      <td>2011-05-10T00:00</td>\n",
       "      <td>10.0</td>\n",
       "      <td>5.0</td>\n",
       "      <td>2011.0</td>\n",
       "      <td>PRESENT</td>\n",
       "      <td>HUMAN_OBSERVATION</td>\n",
       "      <td>-1360999102</td>\n",
       "      <td>COORDINATE_ROUNDED;GEODETIC_DATUM_ASSUMED_WGS8...</td>\n",
       "    </tr>\n",
       "    <tr>\n",
       "      <th>37613</th>\n",
       "      <td>3073358971</td>\n",
       "      <td>Bufonidae</td>\n",
       "      <td>Bufotes</td>\n",
       "      <td>Bufotes balearicus</td>\n",
       "      <td>balearicus</td>\n",
       "      <td>SUBSPECIES</td>\n",
       "      <td>Bufo viridis balearicus Boettger, 1880</td>\n",
       "      <td>FR</td>\n",
       "      <td>NaN</td>\n",
       "      <td>France métropolitaine</td>\n",
       "      <td>...</td>\n",
       "      <td>9.115630</td>\n",
       "      <td>NaN</td>\n",
       "      <td>1992</td>\n",
       "      <td>NaN</td>\n",
       "      <td>NaN</td>\n",
       "      <td>1992.0</td>\n",
       "      <td>PRESENT</td>\n",
       "      <td>HUMAN_OBSERVATION</td>\n",
       "      <td>NaN</td>\n",
       "      <td>GEODETIC_DATUM_ASSUMED_WGS84;CONTINENT_DERIVED...</td>\n",
       "    </tr>\n",
       "  </tbody>\n",
       "</table>\n",
       "<p>2 rows × 21 columns</p>\n",
       "</div>"
      ],
      "text/plain": [
       "           gbifID     family    genus             species  \\\n",
       "22610  2329622469  Bufonidae  Bufotes  Bufotes variabilis   \n",
       "37613  3073358971  Bufonidae  Bufotes  Bufotes balearicus   \n",
       "\n",
       "      infraspecificEpithet   taxonRank  \\\n",
       "22610                  NaN     SPECIES   \n",
       "37613           balearicus  SUBSPECIES   \n",
       "\n",
       "                                scientificName countryCode  \\\n",
       "22610  Pseudepidalea variabilis (Pallas, 1769)          GE   \n",
       "37613   Bufo viridis balearicus Boettger, 1880          FR   \n",
       "\n",
       "                  locality          stateProvince  ...  decimalLongitude  \\\n",
       "22610  UTM50_38T_0450_4700                    NaN  ...         44.639481   \n",
       "37613                  NaN  France métropolitaine  ...          9.115630   \n",
       "\n",
       "       coordinatePrecision         eventDate   day  month    year  \\\n",
       "22610                  NaN  2011-05-10T00:00  10.0    5.0  2011.0   \n",
       "37613                  NaN              1992   NaN    NaN  1992.0   \n",
       "\n",
       "       occurrenceStatus      basisOfRecord   recordedBy  \\\n",
       "22610           PRESENT  HUMAN_OBSERVATION  -1360999102   \n",
       "37613           PRESENT  HUMAN_OBSERVATION          NaN   \n",
       "\n",
       "                                                   issue  \n",
       "22610  COORDINATE_ROUNDED;GEODETIC_DATUM_ASSUMED_WGS8...  \n",
       "37613  GEODETIC_DATUM_ASSUMED_WGS84;CONTINENT_DERIVED...  \n",
       "\n",
       "[2 rows x 21 columns]"
      ]
     },
     "execution_count": 40,
     "metadata": {},
     "output_type": "execute_result"
    }
   ],
   "source": [
    "# Filtrar el DataFrame original para seleccionar solo las filas que contienen las especies que necesitas corregir\n",
    "filtered_df = df[df['species'].isin(taxonomic_corrections['Species'])]\n",
    "\n",
    "filtered_df.head(2)"
   ]
  },
  {
   "cell_type": "code",
   "execution_count": 41,
   "metadata": {},
   "outputs": [
    {
     "data": {
      "text/html": [
       "<div>\n",
       "<style scoped>\n",
       "    .dataframe tbody tr th:only-of-type {\n",
       "        vertical-align: middle;\n",
       "    }\n",
       "\n",
       "    .dataframe tbody tr th {\n",
       "        vertical-align: top;\n",
       "    }\n",
       "\n",
       "    .dataframe thead th {\n",
       "        text-align: right;\n",
       "    }\n",
       "</style>\n",
       "<table border=\"1\" class=\"dataframe\">\n",
       "  <thead>\n",
       "    <tr style=\"text-align: right;\">\n",
       "      <th></th>\n",
       "      <th>gbifID</th>\n",
       "      <th>family</th>\n",
       "      <th>genus</th>\n",
       "      <th>species</th>\n",
       "      <th>infraspecificEpithet</th>\n",
       "      <th>taxonRank</th>\n",
       "      <th>scientificName</th>\n",
       "      <th>countryCode</th>\n",
       "      <th>locality</th>\n",
       "      <th>stateProvince</th>\n",
       "      <th>...</th>\n",
       "      <th>decimalLongitude</th>\n",
       "      <th>coordinatePrecision</th>\n",
       "      <th>eventDate</th>\n",
       "      <th>day</th>\n",
       "      <th>month</th>\n",
       "      <th>year</th>\n",
       "      <th>occurrenceStatus</th>\n",
       "      <th>basisOfRecord</th>\n",
       "      <th>recordedBy</th>\n",
       "      <th>issue</th>\n",
       "    </tr>\n",
       "  </thead>\n",
       "  <tbody>\n",
       "    <tr>\n",
       "      <th>699512</th>\n",
       "      <td>3992555429</td>\n",
       "      <td>Bufonidae</td>\n",
       "      <td>Bufotes</td>\n",
       "      <td>Bufotes balearicus</td>\n",
       "      <td>balearicus</td>\n",
       "      <td>SUBSPECIES</td>\n",
       "      <td>Bufo viridis balearicus Boettger, 1880</td>\n",
       "      <td>FR</td>\n",
       "      <td>NaN</td>\n",
       "      <td>NaN</td>\n",
       "      <td>...</td>\n",
       "      <td>9.45561</td>\n",
       "      <td>NaN</td>\n",
       "      <td>2019-05-22</td>\n",
       "      <td>22.0</td>\n",
       "      <td>5.0</td>\n",
       "      <td>2019.0</td>\n",
       "      <td>PRESENT</td>\n",
       "      <td>HUMAN_OBSERVATION</td>\n",
       "      <td>LEPORI Ludovic</td>\n",
       "      <td>CONTINENT_DERIVED_FROM_COORDINATES;FOOTPRINT_W...</td>\n",
       "    </tr>\n",
       "    <tr>\n",
       "      <th>699513</th>\n",
       "      <td>3992555440</td>\n",
       "      <td>Bufonidae</td>\n",
       "      <td>Bufotes</td>\n",
       "      <td>Bufotes balearicus</td>\n",
       "      <td>balearicus</td>\n",
       "      <td>SUBSPECIES</td>\n",
       "      <td>Bufo viridis balearicus Boettger, 1880</td>\n",
       "      <td>FR</td>\n",
       "      <td>NaN</td>\n",
       "      <td>NaN</td>\n",
       "      <td>...</td>\n",
       "      <td>9.44100</td>\n",
       "      <td>NaN</td>\n",
       "      <td>2019-05-22</td>\n",
       "      <td>22.0</td>\n",
       "      <td>5.0</td>\n",
       "      <td>2019.0</td>\n",
       "      <td>PRESENT</td>\n",
       "      <td>HUMAN_OBSERVATION</td>\n",
       "      <td>LEPORI Ludovic</td>\n",
       "      <td>CONTINENT_DERIVED_FROM_COORDINATES;FOOTPRINT_W...</td>\n",
       "    </tr>\n",
       "  </tbody>\n",
       "</table>\n",
       "<p>2 rows × 21 columns</p>\n",
       "</div>"
      ],
      "text/plain": [
       "            gbifID     family    genus             species  \\\n",
       "699512  3992555429  Bufonidae  Bufotes  Bufotes balearicus   \n",
       "699513  3992555440  Bufonidae  Bufotes  Bufotes balearicus   \n",
       "\n",
       "       infraspecificEpithet   taxonRank  \\\n",
       "699512           balearicus  SUBSPECIES   \n",
       "699513           balearicus  SUBSPECIES   \n",
       "\n",
       "                                scientificName countryCode locality  \\\n",
       "699512  Bufo viridis balearicus Boettger, 1880          FR      NaN   \n",
       "699513  Bufo viridis balearicus Boettger, 1880          FR      NaN   \n",
       "\n",
       "       stateProvince  ...  decimalLongitude  coordinatePrecision   eventDate  \\\n",
       "699512           NaN  ...           9.45561                  NaN  2019-05-22   \n",
       "699513           NaN  ...           9.44100                  NaN  2019-05-22   \n",
       "\n",
       "         day  month    year  occurrenceStatus      basisOfRecord  \\\n",
       "699512  22.0    5.0  2019.0           PRESENT  HUMAN_OBSERVATION   \n",
       "699513  22.0    5.0  2019.0           PRESENT  HUMAN_OBSERVATION   \n",
       "\n",
       "            recordedBy                                              issue  \n",
       "699512  LEPORI Ludovic  CONTINENT_DERIVED_FROM_COORDINATES;FOOTPRINT_W...  \n",
       "699513  LEPORI Ludovic  CONTINENT_DERIVED_FROM_COORDINATES;FOOTPRINT_W...  \n",
       "\n",
       "[2 rows x 21 columns]"
      ]
     },
     "execution_count": 41,
     "metadata": {},
     "output_type": "execute_result"
    }
   ],
   "source": [
    "filtered_df.tail(2)"
   ]
  },
  {
   "cell_type": "code",
   "execution_count": 42,
   "metadata": {},
   "outputs": [
    {
     "data": {
      "text/plain": [
       "833"
      ]
     },
     "execution_count": 42,
     "metadata": {},
     "output_type": "execute_result"
    }
   ],
   "source": [
    "filtered_df.shape[0]"
   ]
  },
  {
   "cell_type": "code",
   "execution_count": 43,
   "metadata": {},
   "outputs": [
    {
     "data": {
      "text/html": [
       "<div>\n",
       "<style scoped>\n",
       "    .dataframe tbody tr th:only-of-type {\n",
       "        vertical-align: middle;\n",
       "    }\n",
       "\n",
       "    .dataframe tbody tr th {\n",
       "        vertical-align: top;\n",
       "    }\n",
       "\n",
       "    .dataframe thead th {\n",
       "        text-align: right;\n",
       "    }\n",
       "</style>\n",
       "<table border=\"1\" class=\"dataframe\">\n",
       "  <thead>\n",
       "    <tr style=\"text-align: right;\">\n",
       "      <th></th>\n",
       "      <th>gbifID</th>\n",
       "      <th>family</th>\n",
       "      <th>genus</th>\n",
       "      <th>species</th>\n",
       "      <th>infraspecificEpithet</th>\n",
       "      <th>taxonRank</th>\n",
       "      <th>scientificName</th>\n",
       "      <th>countryCode</th>\n",
       "      <th>locality</th>\n",
       "      <th>stateProvince</th>\n",
       "      <th>...</th>\n",
       "      <th>decimalLongitude</th>\n",
       "      <th>coordinatePrecision</th>\n",
       "      <th>eventDate</th>\n",
       "      <th>day</th>\n",
       "      <th>month</th>\n",
       "      <th>year</th>\n",
       "      <th>occurrenceStatus</th>\n",
       "      <th>basisOfRecord</th>\n",
       "      <th>recordedBy</th>\n",
       "      <th>issue</th>\n",
       "    </tr>\n",
       "  </thead>\n",
       "  <tbody>\n",
       "    <tr>\n",
       "      <th>22610</th>\n",
       "      <td>2329622469</td>\n",
       "      <td>Bufonidae</td>\n",
       "      <td>Bufotes</td>\n",
       "      <td>Bufotes viridis</td>\n",
       "      <td>NaN</td>\n",
       "      <td>SPECIES</td>\n",
       "      <td>Pseudepidalea variabilis (Pallas, 1769)</td>\n",
       "      <td>GE</td>\n",
       "      <td>UTM50_38T_0450_4700</td>\n",
       "      <td>NaN</td>\n",
       "      <td>...</td>\n",
       "      <td>44.639481</td>\n",
       "      <td>NaN</td>\n",
       "      <td>2011-05-10T00:00</td>\n",
       "      <td>10.0</td>\n",
       "      <td>5.0</td>\n",
       "      <td>2011.0</td>\n",
       "      <td>PRESENT</td>\n",
       "      <td>HUMAN_OBSERVATION</td>\n",
       "      <td>-1360999102</td>\n",
       "      <td>COORDINATE_ROUNDED;GEODETIC_DATUM_ASSUMED_WGS8...</td>\n",
       "    </tr>\n",
       "    <tr>\n",
       "      <th>37613</th>\n",
       "      <td>3073358971</td>\n",
       "      <td>Bufonidae</td>\n",
       "      <td>Bufotes</td>\n",
       "      <td>Bufotes viridis</td>\n",
       "      <td>balearicus</td>\n",
       "      <td>SUBSPECIES</td>\n",
       "      <td>Bufo viridis balearicus Boettger, 1880</td>\n",
       "      <td>FR</td>\n",
       "      <td>NaN</td>\n",
       "      <td>France métropolitaine</td>\n",
       "      <td>...</td>\n",
       "      <td>9.115630</td>\n",
       "      <td>NaN</td>\n",
       "      <td>1992</td>\n",
       "      <td>NaN</td>\n",
       "      <td>NaN</td>\n",
       "      <td>1992.0</td>\n",
       "      <td>PRESENT</td>\n",
       "      <td>HUMAN_OBSERVATION</td>\n",
       "      <td>NaN</td>\n",
       "      <td>GEODETIC_DATUM_ASSUMED_WGS84;CONTINENT_DERIVED...</td>\n",
       "    </tr>\n",
       "  </tbody>\n",
       "</table>\n",
       "<p>2 rows × 21 columns</p>\n",
       "</div>"
      ],
      "text/plain": [
       "           gbifID     family    genus          species infraspecificEpithet  \\\n",
       "22610  2329622469  Bufonidae  Bufotes  Bufotes viridis                  NaN   \n",
       "37613  3073358971  Bufonidae  Bufotes  Bufotes viridis           balearicus   \n",
       "\n",
       "        taxonRank                           scientificName countryCode  \\\n",
       "22610     SPECIES  Pseudepidalea variabilis (Pallas, 1769)          GE   \n",
       "37613  SUBSPECIES   Bufo viridis balearicus Boettger, 1880          FR   \n",
       "\n",
       "                  locality          stateProvince  ...  decimalLongitude  \\\n",
       "22610  UTM50_38T_0450_4700                    NaN  ...         44.639481   \n",
       "37613                  NaN  France métropolitaine  ...          9.115630   \n",
       "\n",
       "       coordinatePrecision         eventDate   day  month    year  \\\n",
       "22610                  NaN  2011-05-10T00:00  10.0    5.0  2011.0   \n",
       "37613                  NaN              1992   NaN    NaN  1992.0   \n",
       "\n",
       "       occurrenceStatus      basisOfRecord   recordedBy  \\\n",
       "22610           PRESENT  HUMAN_OBSERVATION  -1360999102   \n",
       "37613           PRESENT  HUMAN_OBSERVATION          NaN   \n",
       "\n",
       "                                                   issue  \n",
       "22610  COORDINATE_ROUNDED;GEODETIC_DATUM_ASSUMED_WGS8...  \n",
       "37613  GEODETIC_DATUM_ASSUMED_WGS84;CONTINENT_DERIVED...  \n",
       "\n",
       "[2 rows x 21 columns]"
      ]
     },
     "execution_count": 43,
     "metadata": {},
     "output_type": "execute_result"
    }
   ],
   "source": [
    "corrected_df = filtered_df.copy()\n",
    "\n",
    "# Iterar sobre las filas de corrections_df\n",
    "for index, row in taxonomic_corrections.iterrows():\n",
    "    original_species = row['Species']\n",
    "    corrected_species = row['Corrections']\n",
    "    \n",
    "    # Cambia los valores en df donde 'Species' sea igual a original_species creado a partir de la columna 'Species' del taxonomic_corrections\n",
    "    corrected_df.loc[corrected_df['species'] == original_species, 'species'] = corrected_species\n",
    "\n",
    "corrected_df.head(2)"
   ]
  },
  {
   "cell_type": "code",
   "execution_count": 44,
   "metadata": {},
   "outputs": [
    {
     "data": {
      "text/html": [
       "<div>\n",
       "<style scoped>\n",
       "    .dataframe tbody tr th:only-of-type {\n",
       "        vertical-align: middle;\n",
       "    }\n",
       "\n",
       "    .dataframe tbody tr th {\n",
       "        vertical-align: top;\n",
       "    }\n",
       "\n",
       "    .dataframe thead th {\n",
       "        text-align: right;\n",
       "    }\n",
       "</style>\n",
       "<table border=\"1\" class=\"dataframe\">\n",
       "  <thead>\n",
       "    <tr style=\"text-align: right;\">\n",
       "      <th></th>\n",
       "      <th>gbifID</th>\n",
       "      <th>family</th>\n",
       "      <th>genus</th>\n",
       "      <th>species</th>\n",
       "      <th>infraspecificEpithet</th>\n",
       "      <th>taxonRank</th>\n",
       "      <th>scientificName</th>\n",
       "      <th>countryCode</th>\n",
       "      <th>locality</th>\n",
       "      <th>stateProvince</th>\n",
       "      <th>...</th>\n",
       "      <th>decimalLongitude</th>\n",
       "      <th>coordinatePrecision</th>\n",
       "      <th>eventDate</th>\n",
       "      <th>day</th>\n",
       "      <th>month</th>\n",
       "      <th>year</th>\n",
       "      <th>occurrenceStatus</th>\n",
       "      <th>basisOfRecord</th>\n",
       "      <th>recordedBy</th>\n",
       "      <th>issue</th>\n",
       "    </tr>\n",
       "  </thead>\n",
       "  <tbody>\n",
       "    <tr>\n",
       "      <th>699512</th>\n",
       "      <td>3992555429</td>\n",
       "      <td>Bufonidae</td>\n",
       "      <td>Bufotes</td>\n",
       "      <td>Bufotes viridis</td>\n",
       "      <td>balearicus</td>\n",
       "      <td>SUBSPECIES</td>\n",
       "      <td>Bufo viridis balearicus Boettger, 1880</td>\n",
       "      <td>FR</td>\n",
       "      <td>NaN</td>\n",
       "      <td>NaN</td>\n",
       "      <td>...</td>\n",
       "      <td>9.45561</td>\n",
       "      <td>NaN</td>\n",
       "      <td>2019-05-22</td>\n",
       "      <td>22.0</td>\n",
       "      <td>5.0</td>\n",
       "      <td>2019.0</td>\n",
       "      <td>PRESENT</td>\n",
       "      <td>HUMAN_OBSERVATION</td>\n",
       "      <td>LEPORI Ludovic</td>\n",
       "      <td>CONTINENT_DERIVED_FROM_COORDINATES;FOOTPRINT_W...</td>\n",
       "    </tr>\n",
       "    <tr>\n",
       "      <th>699513</th>\n",
       "      <td>3992555440</td>\n",
       "      <td>Bufonidae</td>\n",
       "      <td>Bufotes</td>\n",
       "      <td>Bufotes viridis</td>\n",
       "      <td>balearicus</td>\n",
       "      <td>SUBSPECIES</td>\n",
       "      <td>Bufo viridis balearicus Boettger, 1880</td>\n",
       "      <td>FR</td>\n",
       "      <td>NaN</td>\n",
       "      <td>NaN</td>\n",
       "      <td>...</td>\n",
       "      <td>9.44100</td>\n",
       "      <td>NaN</td>\n",
       "      <td>2019-05-22</td>\n",
       "      <td>22.0</td>\n",
       "      <td>5.0</td>\n",
       "      <td>2019.0</td>\n",
       "      <td>PRESENT</td>\n",
       "      <td>HUMAN_OBSERVATION</td>\n",
       "      <td>LEPORI Ludovic</td>\n",
       "      <td>CONTINENT_DERIVED_FROM_COORDINATES;FOOTPRINT_W...</td>\n",
       "    </tr>\n",
       "  </tbody>\n",
       "</table>\n",
       "<p>2 rows × 21 columns</p>\n",
       "</div>"
      ],
      "text/plain": [
       "            gbifID     family    genus          species infraspecificEpithet  \\\n",
       "699512  3992555429  Bufonidae  Bufotes  Bufotes viridis           balearicus   \n",
       "699513  3992555440  Bufonidae  Bufotes  Bufotes viridis           balearicus   \n",
       "\n",
       "         taxonRank                          scientificName countryCode  \\\n",
       "699512  SUBSPECIES  Bufo viridis balearicus Boettger, 1880          FR   \n",
       "699513  SUBSPECIES  Bufo viridis balearicus Boettger, 1880          FR   \n",
       "\n",
       "       locality stateProvince  ...  decimalLongitude  coordinatePrecision  \\\n",
       "699512      NaN           NaN  ...           9.45561                  NaN   \n",
       "699513      NaN           NaN  ...           9.44100                  NaN   \n",
       "\n",
       "         eventDate   day  month    year  occurrenceStatus      basisOfRecord  \\\n",
       "699512  2019-05-22  22.0    5.0  2019.0           PRESENT  HUMAN_OBSERVATION   \n",
       "699513  2019-05-22  22.0    5.0  2019.0           PRESENT  HUMAN_OBSERVATION   \n",
       "\n",
       "            recordedBy                                              issue  \n",
       "699512  LEPORI Ludovic  CONTINENT_DERIVED_FROM_COORDINATES;FOOTPRINT_W...  \n",
       "699513  LEPORI Ludovic  CONTINENT_DERIVED_FROM_COORDINATES;FOOTPRINT_W...  \n",
       "\n",
       "[2 rows x 21 columns]"
      ]
     },
     "execution_count": 44,
     "metadata": {},
     "output_type": "execute_result"
    }
   ],
   "source": [
    "corrected_df.tail(2)"
   ]
  },
  {
   "cell_type": "code",
   "execution_count": 45,
   "metadata": {},
   "outputs": [
    {
     "data": {
      "text/plain": [
       "833"
      ]
     },
     "execution_count": 45,
     "metadata": {},
     "output_type": "execute_result"
    }
   ],
   "source": [
    "corrected_df.shape[0]"
   ]
  },
  {
   "cell_type": "markdown",
   "metadata": {},
   "source": [
    "El cambio se ha realizado corrctamente, por lo que se procede a realizar el cmabio en el dataframe original."
   ]
  },
  {
   "cell_type": "code",
   "execution_count": 46,
   "metadata": {},
   "outputs": [],
   "source": [
    "# Iterar sobre las filas de corrections_df\n",
    "for index, row in taxonomic_corrections.iterrows():\n",
    "    original_species = row['Species']\n",
    "    corrected_species = row['Corrections']\n",
    "    \n",
    "    # Cambia los valores en df donde 'Species' sea igual a original_species creado a partir de la columna 'Species' del taxonomic_corrections\n",
    "    df.loc[df['species'] == original_species, 'species'] = corrected_species"
   ]
  },
  {
   "cell_type": "markdown",
   "metadata": {},
   "source": [
    "## Selección de especies europeas\n",
    "\n",
    "A continuación se carga el listado taxonómica de especies revisada por Speybroeck et al (2020) para el continente Europeo. Según esta lista, hay 6 especies europeas, que seran con las que se trabajará en este estudio."
   ]
  },
  {
   "cell_type": "code",
   "execution_count": 47,
   "metadata": {},
   "outputs": [
    {
     "data": {
      "text/html": [
       "<div>\n",
       "<style scoped>\n",
       "    .dataframe tbody tr th:only-of-type {\n",
       "        vertical-align: middle;\n",
       "    }\n",
       "\n",
       "    .dataframe tbody tr th {\n",
       "        vertical-align: top;\n",
       "    }\n",
       "\n",
       "    .dataframe thead th {\n",
       "        text-align: right;\n",
       "    }\n",
       "</style>\n",
       "<table border=\"1\" class=\"dataframe\">\n",
       "  <thead>\n",
       "    <tr style=\"text-align: right;\">\n",
       "      <th></th>\n",
       "      <th>family_x</th>\n",
       "      <th>genus_x</th>\n",
       "      <th>species</th>\n",
       "      <th>infraspecificEpithet</th>\n",
       "      <th>taxonRank</th>\n",
       "      <th>scientificName</th>\n",
       "      <th>gbif_status</th>\n",
       "      <th>gbif_matchType</th>\n",
       "      <th>gbif_species</th>\n",
       "      <th>family_y</th>\n",
       "      <th>genus_y</th>\n",
       "      <th>S_Name</th>\n",
       "      <th>name</th>\n",
       "    </tr>\n",
       "  </thead>\n",
       "  <tbody>\n",
       "    <tr>\n",
       "      <th>0</th>\n",
       "      <td>Bufonidae</td>\n",
       "      <td>Bufo</td>\n",
       "      <td>Bufo bufo</td>\n",
       "      <td>NaN</td>\n",
       "      <td>SPECIES</td>\n",
       "      <td>Bufo bufo (Linnaeus, 1758)</td>\n",
       "      <td>ACCEPTED</td>\n",
       "      <td>EXACT</td>\n",
       "      <td>Bufo bufo</td>\n",
       "      <td>Bufonidae</td>\n",
       "      <td>Bufo</td>\n",
       "      <td>Bufo bufo (Linnaeus, 1758)</td>\n",
       "      <td>Common Toad</td>\n",
       "    </tr>\n",
       "    <tr>\n",
       "      <th>1</th>\n",
       "      <td>Bufonidae</td>\n",
       "      <td>Bufo</td>\n",
       "      <td>Bufo bufo</td>\n",
       "      <td>NaN</td>\n",
       "      <td>SPECIES</td>\n",
       "      <td>Rana bufo Linnaeus, 1758</td>\n",
       "      <td>SYNONYM</td>\n",
       "      <td>EXACT</td>\n",
       "      <td>Bufo bufo</td>\n",
       "      <td>Bufonidae</td>\n",
       "      <td>Bufo</td>\n",
       "      <td>Bufo bufo (Linnaeus, 1758)</td>\n",
       "      <td>Common Toad</td>\n",
       "    </tr>\n",
       "    <tr>\n",
       "      <th>2</th>\n",
       "      <td>Bufonidae</td>\n",
       "      <td>Bufo</td>\n",
       "      <td>Bufo bufo</td>\n",
       "      <td>NaN</td>\n",
       "      <td>SPECIES</td>\n",
       "      <td>Rana rubeta Linnaeus, 1758</td>\n",
       "      <td>SYNONYM</td>\n",
       "      <td>EXACT</td>\n",
       "      <td>Bufo bufo</td>\n",
       "      <td>Bufonidae</td>\n",
       "      <td>Bufo</td>\n",
       "      <td>Bufo bufo (Linnaeus, 1758)</td>\n",
       "      <td>Common Toad</td>\n",
       "    </tr>\n",
       "    <tr>\n",
       "      <th>3</th>\n",
       "      <td>Bufonidae</td>\n",
       "      <td>Bufo</td>\n",
       "      <td>Bufo bufo</td>\n",
       "      <td>NaN</td>\n",
       "      <td>SPECIES</td>\n",
       "      <td>Rana vulgaris (Laurenti, 1768)</td>\n",
       "      <td>SYNONYM</td>\n",
       "      <td>EXACT</td>\n",
       "      <td>Bufo bufo</td>\n",
       "      <td>Bufonidae</td>\n",
       "      <td>Bufo</td>\n",
       "      <td>Bufo bufo (Linnaeus, 1758)</td>\n",
       "      <td>Common Toad</td>\n",
       "    </tr>\n",
       "    <tr>\n",
       "      <th>4</th>\n",
       "      <td>Bufonidae</td>\n",
       "      <td>Bufo</td>\n",
       "      <td>Bufo spinosus</td>\n",
       "      <td>NaN</td>\n",
       "      <td>SPECIES</td>\n",
       "      <td>Bufo spinosus Daudin, 1803</td>\n",
       "      <td>ACCEPTED</td>\n",
       "      <td>EXACT</td>\n",
       "      <td>Bufo spinosus</td>\n",
       "      <td>Bufonidae</td>\n",
       "      <td>Bufo</td>\n",
       "      <td>Bufo spinosus (Daudin, 1803)</td>\n",
       "      <td>Spiny Toad</td>\n",
       "    </tr>\n",
       "  </tbody>\n",
       "</table>\n",
       "</div>"
      ],
      "text/plain": [
       "    family_x genus_x        species infraspecificEpithet taxonRank  \\\n",
       "0  Bufonidae    Bufo      Bufo bufo                  NaN   SPECIES   \n",
       "1  Bufonidae    Bufo      Bufo bufo                  NaN   SPECIES   \n",
       "2  Bufonidae    Bufo      Bufo bufo                  NaN   SPECIES   \n",
       "3  Bufonidae    Bufo      Bufo bufo                  NaN   SPECIES   \n",
       "4  Bufonidae    Bufo  Bufo spinosus                  NaN   SPECIES   \n",
       "\n",
       "                   scientificName gbif_status gbif_matchType   gbif_species  \\\n",
       "0      Bufo bufo (Linnaeus, 1758)    ACCEPTED          EXACT      Bufo bufo   \n",
       "1        Rana bufo Linnaeus, 1758     SYNONYM          EXACT      Bufo bufo   \n",
       "2      Rana rubeta Linnaeus, 1758     SYNONYM          EXACT      Bufo bufo   \n",
       "3  Rana vulgaris (Laurenti, 1768)     SYNONYM          EXACT      Bufo bufo   \n",
       "4      Bufo spinosus Daudin, 1803    ACCEPTED          EXACT  Bufo spinosus   \n",
       "\n",
       "    family_y genus_y                        S_Name         name  \n",
       "0  Bufonidae    Bufo    Bufo bufo (Linnaeus, 1758)  Common Toad  \n",
       "1  Bufonidae    Bufo    Bufo bufo (Linnaeus, 1758)  Common Toad  \n",
       "2  Bufonidae    Bufo    Bufo bufo (Linnaeus, 1758)  Common Toad  \n",
       "3  Bufonidae    Bufo    Bufo bufo (Linnaeus, 1758)  Common Toad  \n",
       "4  Bufonidae    Bufo  Bufo spinosus (Daudin, 1803)   Spiny Toad  "
      ]
     },
     "execution_count": 47,
     "metadata": {},
     "output_type": "execute_result"
    }
   ],
   "source": [
    "merged_df = pd.merge(species_checklist_v2, europa_list, on='species', how='inner')\n",
    "merged_df.head()"
   ]
  },
  {
   "cell_type": "code",
   "execution_count": 48,
   "metadata": {},
   "outputs": [
    {
     "data": {
      "text/plain": [
       "Index(['family_x', 'genus_x', 'species', 'infraspecificEpithet', 'taxonRank',\n",
       "       'scientificName', 'gbif_status', 'gbif_matchType', 'gbif_species',\n",
       "       'family_y', 'genus_y', 'S_Name', 'name'],\n",
       "      dtype='object')"
      ]
     },
     "execution_count": 48,
     "metadata": {},
     "output_type": "execute_result"
    }
   ],
   "source": [
    "merged_df.columns"
   ]
  },
  {
   "cell_type": "code",
   "execution_count": 49,
   "metadata": {},
   "outputs": [
    {
     "data": {
      "text/html": [
       "<div>\n",
       "<style scoped>\n",
       "    .dataframe tbody tr th:only-of-type {\n",
       "        vertical-align: middle;\n",
       "    }\n",
       "\n",
       "    .dataframe tbody tr th {\n",
       "        vertical-align: top;\n",
       "    }\n",
       "\n",
       "    .dataframe thead th {\n",
       "        text-align: right;\n",
       "    }\n",
       "</style>\n",
       "<table border=\"1\" class=\"dataframe\">\n",
       "  <thead>\n",
       "    <tr style=\"text-align: right;\">\n",
       "      <th></th>\n",
       "      <th>FAMILY</th>\n",
       "      <th>GENUS</th>\n",
       "      <th>species</th>\n",
       "      <th>scientificName</th>\n",
       "      <th>S_NAME</th>\n",
       "      <th>gbif_status</th>\n",
       "      <th>name</th>\n",
       "    </tr>\n",
       "  </thead>\n",
       "  <tbody>\n",
       "    <tr>\n",
       "      <th>0</th>\n",
       "      <td>Bufonidae</td>\n",
       "      <td>Bufo</td>\n",
       "      <td>Bufo bufo</td>\n",
       "      <td>Bufo bufo (Linnaeus, 1758)</td>\n",
       "      <td>Bufo bufo (Linnaeus, 1758)</td>\n",
       "      <td>ACCEPTED</td>\n",
       "      <td>Common Toad</td>\n",
       "    </tr>\n",
       "    <tr>\n",
       "      <th>1</th>\n",
       "      <td>Bufonidae</td>\n",
       "      <td>Bufo</td>\n",
       "      <td>Bufo bufo</td>\n",
       "      <td>Rana bufo Linnaeus, 1758</td>\n",
       "      <td>Bufo bufo (Linnaeus, 1758)</td>\n",
       "      <td>SYNONYM</td>\n",
       "      <td>Common Toad</td>\n",
       "    </tr>\n",
       "    <tr>\n",
       "      <th>2</th>\n",
       "      <td>Bufonidae</td>\n",
       "      <td>Bufo</td>\n",
       "      <td>Bufo bufo</td>\n",
       "      <td>Rana rubeta Linnaeus, 1758</td>\n",
       "      <td>Bufo bufo (Linnaeus, 1758)</td>\n",
       "      <td>SYNONYM</td>\n",
       "      <td>Common Toad</td>\n",
       "    </tr>\n",
       "    <tr>\n",
       "      <th>3</th>\n",
       "      <td>Bufonidae</td>\n",
       "      <td>Bufo</td>\n",
       "      <td>Bufo bufo</td>\n",
       "      <td>Rana vulgaris (Laurenti, 1768)</td>\n",
       "      <td>Bufo bufo (Linnaeus, 1758)</td>\n",
       "      <td>SYNONYM</td>\n",
       "      <td>Common Toad</td>\n",
       "    </tr>\n",
       "    <tr>\n",
       "      <th>4</th>\n",
       "      <td>Bufonidae</td>\n",
       "      <td>Bufo</td>\n",
       "      <td>Bufo spinosus</td>\n",
       "      <td>Bufo spinosus Daudin, 1803</td>\n",
       "      <td>Bufo spinosus (Daudin, 1803)</td>\n",
       "      <td>ACCEPTED</td>\n",
       "      <td>Spiny Toad</td>\n",
       "    </tr>\n",
       "  </tbody>\n",
       "</table>\n",
       "</div>"
      ],
      "text/plain": [
       "      FAMILY GENUS        species                  scientificName  \\\n",
       "0  Bufonidae  Bufo      Bufo bufo      Bufo bufo (Linnaeus, 1758)   \n",
       "1  Bufonidae  Bufo      Bufo bufo        Rana bufo Linnaeus, 1758   \n",
       "2  Bufonidae  Bufo      Bufo bufo      Rana rubeta Linnaeus, 1758   \n",
       "3  Bufonidae  Bufo      Bufo bufo  Rana vulgaris (Laurenti, 1768)   \n",
       "4  Bufonidae  Bufo  Bufo spinosus      Bufo spinosus Daudin, 1803   \n",
       "\n",
       "                         S_NAME gbif_status         name  \n",
       "0    Bufo bufo (Linnaeus, 1758)    ACCEPTED  Common Toad  \n",
       "1    Bufo bufo (Linnaeus, 1758)     SYNONYM  Common Toad  \n",
       "2    Bufo bufo (Linnaeus, 1758)     SYNONYM  Common Toad  \n",
       "3    Bufo bufo (Linnaeus, 1758)     SYNONYM  Common Toad  \n",
       "4  Bufo spinosus (Daudin, 1803)    ACCEPTED   Spiny Toad  "
      ]
     },
     "execution_count": 49,
     "metadata": {},
     "output_type": "execute_result"
    }
   ],
   "source": [
    "columns_select = ('family_x', 'genus_x', 'species', 'scientificName','S_Name', 'gbif_status', 'name')\n",
    "\n",
    "# Selecciona solo las columnas especificadas en la lista columns_select\n",
    "merged_df = merged_df[list(columns_select)]\n",
    "\n",
    "# Renombrar las columnas 'family_x' y 'genus_x' a 'FAMILY' y 'GENUS' respectivamente\n",
    "merged_df = merged_df.rename(columns={'family_x': 'FAMILY', 'genus_x': 'GENUS', 'S_Name':'S_NAME'})\n",
    "merged_df.head()"
   ]
  },
  {
   "cell_type": "code",
   "execution_count": 50,
   "metadata": {},
   "outputs": [
    {
     "data": {
      "text/plain": [
       "12"
      ]
     },
     "execution_count": 50,
     "metadata": {},
     "output_type": "execute_result"
    }
   ],
   "source": [
    "len(merged_df)"
   ]
  },
  {
   "cell_type": "code",
   "execution_count": 51,
   "metadata": {},
   "outputs": [
    {
     "data": {
      "text/plain": [
       "6"
      ]
     },
     "execution_count": 51,
     "metadata": {},
     "output_type": "execute_result"
    }
   ],
   "source": [
    "merged_df['species'].nunique()"
   ]
  },
  {
   "cell_type": "markdown",
   "metadata": {},
   "source": [
    "Se observa que estan presentes las 6 especies europeas."
   ]
  },
  {
   "cell_type": "code",
   "execution_count": 52,
   "metadata": {},
   "outputs": [
    {
     "data": {
      "text/html": [
       "<div>\n",
       "<style scoped>\n",
       "    .dataframe tbody tr th:only-of-type {\n",
       "        vertical-align: middle;\n",
       "    }\n",
       "\n",
       "    .dataframe tbody tr th {\n",
       "        vertical-align: top;\n",
       "    }\n",
       "\n",
       "    .dataframe thead th {\n",
       "        text-align: right;\n",
       "    }\n",
       "</style>\n",
       "<table border=\"1\" class=\"dataframe\">\n",
       "  <thead>\n",
       "    <tr style=\"text-align: right;\">\n",
       "      <th></th>\n",
       "      <th>FAMILY</th>\n",
       "      <th>GENUS</th>\n",
       "      <th>species</th>\n",
       "      <th>S_NAME</th>\n",
       "      <th>name</th>\n",
       "    </tr>\n",
       "  </thead>\n",
       "  <tbody>\n",
       "    <tr>\n",
       "      <th>0</th>\n",
       "      <td>Bufonidae</td>\n",
       "      <td>Bufo</td>\n",
       "      <td>Bufo bufo</td>\n",
       "      <td>Bufo bufo (Linnaeus, 1758)</td>\n",
       "      <td>Common Toad</td>\n",
       "    </tr>\n",
       "    <tr>\n",
       "      <th>4</th>\n",
       "      <td>Bufonidae</td>\n",
       "      <td>Bufo</td>\n",
       "      <td>Bufo spinosus</td>\n",
       "      <td>Bufo spinosus (Daudin, 1803)</td>\n",
       "      <td>Spiny Toad</td>\n",
       "    </tr>\n",
       "    <tr>\n",
       "      <th>5</th>\n",
       "      <td>Bufonidae</td>\n",
       "      <td>Bufotes</td>\n",
       "      <td>Bufotes boulengeri</td>\n",
       "      <td>Bufotes boulengeri (Lataste, 1879)</td>\n",
       "      <td>African Green Toad</td>\n",
       "    </tr>\n",
       "    <tr>\n",
       "      <th>6</th>\n",
       "      <td>Bufonidae</td>\n",
       "      <td>Bufotes</td>\n",
       "      <td>Bufotes cypriensis</td>\n",
       "      <td>Bufotes cypriensis (Litvinchuk, Mazepa, Jablon...</td>\n",
       "      <td>Cyprus Green Toad</td>\n",
       "    </tr>\n",
       "    <tr>\n",
       "      <th>7</th>\n",
       "      <td>Bufonidae</td>\n",
       "      <td>Bufotes</td>\n",
       "      <td>Bufotes viridis</td>\n",
       "      <td>Bufotes viridis (Laurenti, 1768)</td>\n",
       "      <td>Green Toad</td>\n",
       "    </tr>\n",
       "    <tr>\n",
       "      <th>10</th>\n",
       "      <td>Bufonidae</td>\n",
       "      <td>Epidalea</td>\n",
       "      <td>Epidalea calamita</td>\n",
       "      <td>Epidalea calamita (Laurenti, 1768)</td>\n",
       "      <td>Natterjack Toad</td>\n",
       "    </tr>\n",
       "  </tbody>\n",
       "</table>\n",
       "</div>"
      ],
      "text/plain": [
       "       FAMILY     GENUS             species  \\\n",
       "0   Bufonidae      Bufo           Bufo bufo   \n",
       "4   Bufonidae      Bufo       Bufo spinosus   \n",
       "5   Bufonidae   Bufotes  Bufotes boulengeri   \n",
       "6   Bufonidae   Bufotes  Bufotes cypriensis   \n",
       "7   Bufonidae   Bufotes     Bufotes viridis   \n",
       "10  Bufonidae  Epidalea   Epidalea calamita   \n",
       "\n",
       "                                               S_NAME                name  \n",
       "0                          Bufo bufo (Linnaeus, 1758)         Common Toad  \n",
       "4                        Bufo spinosus (Daudin, 1803)          Spiny Toad  \n",
       "5                  Bufotes boulengeri (Lataste, 1879)  African Green Toad  \n",
       "6   Bufotes cypriensis (Litvinchuk, Mazepa, Jablon...   Cyprus Green Toad  \n",
       "7                    Bufotes viridis (Laurenti, 1768)          Green Toad  \n",
       "10                 Epidalea calamita (Laurenti, 1768)     Natterjack Toad  "
      ]
     },
     "execution_count": 52,
     "metadata": {},
     "output_type": "execute_result"
    }
   ],
   "source": [
    "columns_select = ('FAMILY', 'GENUS', 'species', 'S_NAME', 'name')\n",
    "cheklist_revised = merged_df[list(columns_select)].copy().drop_duplicates()\n",
    "cheklist_revised"
   ]
  },
  {
   "cell_type": "code",
   "execution_count": 53,
   "metadata": {},
   "outputs": [],
   "source": [
    "#cheklist_revised.to_csv('01_PREPROCESADO/Listado_revisado_final.csv', index=False, encoding='utf-8-sig')"
   ]
  },
  {
   "cell_type": "markdown",
   "metadata": {},
   "source": [
    "## Seleccionar registros correspondientes a las 6 especies revisadas"
   ]
  },
  {
   "cell_type": "code",
   "execution_count": 54,
   "metadata": {},
   "outputs": [
    {
     "name": "stdout",
     "output_type": "stream",
     "text": [
      "Número de registros presentes en el dataframe de presencias, antes de la selección: 679555\n"
     ]
    }
   ],
   "source": [
    "print('Número de registros presentes en el dataframe de presencias, antes de la selección:', len(df))"
   ]
  },
  {
   "cell_type": "code",
   "execution_count": 55,
   "metadata": {},
   "outputs": [
    {
     "data": {
      "text/html": [
       "<div>\n",
       "<style scoped>\n",
       "    .dataframe tbody tr th:only-of-type {\n",
       "        vertical-align: middle;\n",
       "    }\n",
       "\n",
       "    .dataframe tbody tr th {\n",
       "        vertical-align: top;\n",
       "    }\n",
       "\n",
       "    .dataframe thead th {\n",
       "        text-align: right;\n",
       "    }\n",
       "</style>\n",
       "<table border=\"1\" class=\"dataframe\">\n",
       "  <thead>\n",
       "    <tr style=\"text-align: right;\">\n",
       "      <th></th>\n",
       "      <th>gbifID</th>\n",
       "      <th>family</th>\n",
       "      <th>genus</th>\n",
       "      <th>species</th>\n",
       "      <th>infraspecificEpithet</th>\n",
       "      <th>taxonRank</th>\n",
       "      <th>scientificName</th>\n",
       "      <th>countryCode</th>\n",
       "      <th>locality</th>\n",
       "      <th>stateProvince</th>\n",
       "      <th>...</th>\n",
       "      <th>month</th>\n",
       "      <th>year</th>\n",
       "      <th>occurrenceStatus</th>\n",
       "      <th>basisOfRecord</th>\n",
       "      <th>recordedBy</th>\n",
       "      <th>issue</th>\n",
       "      <th>FAMILY</th>\n",
       "      <th>GENUS</th>\n",
       "      <th>S_NAME</th>\n",
       "      <th>name</th>\n",
       "    </tr>\n",
       "  </thead>\n",
       "  <tbody>\n",
       "    <tr>\n",
       "      <th>0</th>\n",
       "      <td>2502246604</td>\n",
       "      <td>Bufonidae</td>\n",
       "      <td>Bufo</td>\n",
       "      <td>Bufo bufo</td>\n",
       "      <td>NaN</td>\n",
       "      <td>SPECIES</td>\n",
       "      <td>Bufo bufo (Linnaeus, 1758)</td>\n",
       "      <td>FR</td>\n",
       "      <td>NaN</td>\n",
       "      <td>NaN</td>\n",
       "      <td>...</td>\n",
       "      <td>4.0</td>\n",
       "      <td>2014.0</td>\n",
       "      <td>PRESENT</td>\n",
       "      <td>HUMAN_OBSERVATION</td>\n",
       "      <td>Dewulf Lucile</td>\n",
       "      <td>CONTINENT_DERIVED_FROM_COORDINATES;TAXON_MATCH...</td>\n",
       "      <td>Bufonidae</td>\n",
       "      <td>Bufo</td>\n",
       "      <td>Bufo bufo (Linnaeus, 1758)</td>\n",
       "      <td>Common Toad</td>\n",
       "    </tr>\n",
       "    <tr>\n",
       "      <th>1</th>\n",
       "      <td>2502246611</td>\n",
       "      <td>Bufonidae</td>\n",
       "      <td>Bufo</td>\n",
       "      <td>Bufo bufo</td>\n",
       "      <td>NaN</td>\n",
       "      <td>SPECIES</td>\n",
       "      <td>Bufo bufo (Linnaeus, 1758)</td>\n",
       "      <td>FR</td>\n",
       "      <td>NaN</td>\n",
       "      <td>NaN</td>\n",
       "      <td>...</td>\n",
       "      <td>3.0</td>\n",
       "      <td>2015.0</td>\n",
       "      <td>PRESENT</td>\n",
       "      <td>HUMAN_OBSERVATION</td>\n",
       "      <td>Dewulf Lucile</td>\n",
       "      <td>CONTINENT_DERIVED_FROM_COORDINATES;FOOTPRINT_W...</td>\n",
       "      <td>Bufonidae</td>\n",
       "      <td>Bufo</td>\n",
       "      <td>Bufo bufo (Linnaeus, 1758)</td>\n",
       "      <td>Common Toad</td>\n",
       "    </tr>\n",
       "  </tbody>\n",
       "</table>\n",
       "<p>2 rows × 25 columns</p>\n",
       "</div>"
      ],
      "text/plain": [
       "       gbifID     family genus    species infraspecificEpithet taxonRank  \\\n",
       "0  2502246604  Bufonidae  Bufo  Bufo bufo                  NaN   SPECIES   \n",
       "1  2502246611  Bufonidae  Bufo  Bufo bufo                  NaN   SPECIES   \n",
       "\n",
       "               scientificName countryCode locality stateProvince  ...  month  \\\n",
       "0  Bufo bufo (Linnaeus, 1758)          FR      NaN           NaN  ...    4.0   \n",
       "1  Bufo bufo (Linnaeus, 1758)          FR      NaN           NaN  ...    3.0   \n",
       "\n",
       "     year  occurrenceStatus      basisOfRecord     recordedBy  \\\n",
       "0  2014.0           PRESENT  HUMAN_OBSERVATION  Dewulf Lucile   \n",
       "1  2015.0           PRESENT  HUMAN_OBSERVATION  Dewulf Lucile   \n",
       "\n",
       "                                               issue     FAMILY GENUS  \\\n",
       "0  CONTINENT_DERIVED_FROM_COORDINATES;TAXON_MATCH...  Bufonidae  Bufo   \n",
       "1  CONTINENT_DERIVED_FROM_COORDINATES;FOOTPRINT_W...  Bufonidae  Bufo   \n",
       "\n",
       "                       S_NAME         name  \n",
       "0  Bufo bufo (Linnaeus, 1758)  Common Toad  \n",
       "1  Bufo bufo (Linnaeus, 1758)  Common Toad  \n",
       "\n",
       "[2 rows x 25 columns]"
      ]
     },
     "execution_count": 55,
     "metadata": {},
     "output_type": "execute_result"
    }
   ],
   "source": [
    "df_bufoniade = pd.merge(df, cheklist_revised, on='species', how='inner')\n",
    "df_bufoniade.head(2)"
   ]
  },
  {
   "cell_type": "code",
   "execution_count": 56,
   "metadata": {},
   "outputs": [
    {
     "data": {
      "text/plain": [
       "Index(['gbifID', 'family', 'genus', 'species', 'infraspecificEpithet',\n",
       "       'taxonRank', 'scientificName', 'countryCode', 'locality',\n",
       "       'stateProvince', 'decimalLatitude', 'decimalLongitude',\n",
       "       'coordinatePrecision', 'eventDate', 'day', 'month', 'year',\n",
       "       'occurrenceStatus', 'basisOfRecord', 'recordedBy', 'issue', 'FAMILY',\n",
       "       'GENUS', 'S_NAME', 'name'],\n",
       "      dtype='object')"
      ]
     },
     "execution_count": 56,
     "metadata": {},
     "output_type": "execute_result"
    }
   ],
   "source": [
    "df_bufoniade.columns"
   ]
  },
  {
   "cell_type": "code",
   "execution_count": 57,
   "metadata": {},
   "outputs": [
    {
     "data": {
      "text/plain": [
       "6"
      ]
     },
     "execution_count": 57,
     "metadata": {},
     "output_type": "execute_result"
    }
   ],
   "source": [
    "df_bufoniade['species'].nunique()"
   ]
  },
  {
   "cell_type": "code",
   "execution_count": 58,
   "metadata": {},
   "outputs": [
    {
     "name": "stdout",
     "output_type": "stream",
     "text": [
      "Número de registros presentes en el dataframe de presencias de anuros, antes de la selección: 679555\n",
      "Número de registros presentes en el dataframe de presencias de anuros, tras de la selección: 678937\n",
      "Número total de registros descartados: 618\n"
     ]
    }
   ],
   "source": [
    "print('Número de registros presentes en el dataframe de presencias de anuros, antes de la selección:', len(df))\n",
    "print('Número de registros presentes en el dataframe de presencias de anuros, tras de la selección:', len(df_bufoniade))\n",
    "antes = len(df)\n",
    "despues = len(df_bufoniade)\n",
    "dif = antes-despues\n",
    "print('Número total de registros descartados:', dif)"
   ]
  },
  {
   "cell_type": "code",
   "execution_count": 59,
   "metadata": {},
   "outputs": [],
   "source": [
    "campos = ('gbifID', 'FAMILY', 'GENUS', 'species', \n",
    "          'infraspecificEpithet', 'taxonRank', 'S_NAME', 'name',\n",
    "          'countryCode', 'locality', 'stateProvince', 'decimalLatitude',\n",
    "          'decimalLongitude', 'coordinatePrecision', 'eventDate', 'day', 'month', 'year',\n",
    "          'occurrenceStatus', 'basisOfRecord', 'recordedBy', 'issue')"
   ]
  },
  {
   "cell_type": "code",
   "execution_count": 60,
   "metadata": {},
   "outputs": [],
   "source": [
    "df_bufoniade = df_bufoniade[list(campos)]"
   ]
  },
  {
   "cell_type": "code",
   "execution_count": 61,
   "metadata": {},
   "outputs": [],
   "source": [
    "df_bufoniade.to_csv('01_PREPROCESADO/df_bufoniade_tax_ok.csv', index=False, encoding='utf-8-sig')\n"
   ]
  },
  {
   "cell_type": "markdown",
   "metadata": {},
   "source": [
    "# Validación coordenadas geográficas (2)"
   ]
  },
  {
   "cell_type": "code",
   "execution_count": 62,
   "metadata": {},
   "outputs": [
    {
     "name": "stdout",
     "output_type": "stream",
     "text": [
      "Máximo número de decimales en decimalLat: 6\n",
      "Máximo número de decimales en decimalLon: 6\n",
      "Mínimo número de decimales en decimalLat: 1\n",
      "Mínimo número de decimales en decimalLon: 0\n"
     ]
    }
   ],
   "source": [
    "# Función para contar decimales\n",
    "def count_dec(valor):\n",
    "    if isinstance(valor, float):\n",
    "        partes = str(abs(valor)).split('.')\n",
    "        if len(partes) > 1:\n",
    "            return len(partes[1]) #selecciona la len de la segunda parte (tras el punto)\n",
    "        else:\n",
    "            return 0\n",
    "    else:\n",
    "        return 0\n",
    "#str() convierte este valor numérico en una cadena de caracteres.\n",
    "#split('.'): divide la cadena en dos partes en el punto decimal (.)\n",
    "\n",
    "# Aplicar la función a cada valor de las coordenadas y obtener el máximo\n",
    "\n",
    "max_dec_lat = df_bufoniade['decimalLatitude'].apply(count_dec).max()\n",
    "max_dec_lon = df_bufoniade['decimalLongitude'].apply(count_dec).max()\n",
    "\n",
    "print(\"Máximo número de decimales en decimalLat:\", max_dec_lat)\n",
    "print(\"Máximo número de decimales en decimalLon:\", max_dec_lon)\n",
    "\n",
    "min_dec_lat = df_bufoniade['decimalLatitude'].apply(count_dec).min()\n",
    "min_dec_lon = df_bufoniade['decimalLongitude'].apply(count_dec).min()\n",
    "\n",
    "print(\"Mínimo número de decimales en decimalLat:\", min_dec_lat)\n",
    "print(\"Mínimo número de decimales en decimalLon:\", min_dec_lon)"
   ]
  },
  {
   "cell_type": "code",
   "execution_count": 63,
   "metadata": {},
   "outputs": [],
   "source": [
    "# Agregar las nuevas columnas al DataFrame\n",
    "df_bufoniade['len_dec_lat'] = df_bufoniade['decimalLatitude'].apply(count_dec)\n",
    "df_bufoniade['len_dec_lon'] = df_bufoniade['decimalLongitude'].apply(count_dec)"
   ]
  },
  {
   "cell_type": "code",
   "execution_count": 64,
   "metadata": {},
   "outputs": [],
   "source": [
    "# Filtrar los registros que tengan más de 1 decimal en ambos campos\n",
    "df_bufoniade_coord = df_bufoniade.loc[(df_bufoniade['len_dec_lat'] > 1) & (df_bufoniade['len_dec_lon'] > 1)]"
   ]
  },
  {
   "cell_type": "code",
   "execution_count": 65,
   "metadata": {},
   "outputs": [
    {
     "name": "stdout",
     "output_type": "stream",
     "text": [
      "Número de registros presentes en el dataframe de presencias de anuros, antes de la selección: 678937\n",
      "Número de registros presentes en el dataframe de presencias de anuros, tras de la selección: 585190\n",
      "Número total de registros descartados: 93747\n"
     ]
    }
   ],
   "source": [
    "print('Número de registros presentes en el dataframe de presencias de anuros, antes de la selección:', len(df_bufoniade))\n",
    "print('Número de registros presentes en el dataframe de presencias de anuros, tras de la selección:', len(df_bufoniade_coord))\n",
    "antes = len(df_bufoniade)\n",
    "despues = len(df_bufoniade_coord)\n",
    "dif = antes-despues\n",
    "print('Número total de registros descartados:', dif)"
   ]
  },
  {
   "cell_type": "markdown",
   "metadata": {},
   "source": [
    "# Filtros temporales\n",
    "\n",
    "Se filtraran aquellos registros que al menos tengan informacion para año y mes. Si no hay informacion de fecha se aislaran en un dataframe diferente, para evaluar si se puede conseguir la fehca a partir del campo 'eventday'.\n",
    "\n",
    "A continuación se crean dos df, uno con valores nulos en algunos de los campos 'day', 'month', 'year' y otro sin valores nulos."
   ]
  },
  {
   "cell_type": "code",
   "execution_count": 66,
   "metadata": {},
   "outputs": [],
   "source": [
    "records_year = df_bufoniade_coord.groupby('year').size().reset_index(name='records')"
   ]
  },
  {
   "cell_type": "code",
   "execution_count": 67,
   "metadata": {},
   "outputs": [
    {
     "data": {
      "text/html": [
       "<div>\n",
       "<style scoped>\n",
       "    .dataframe tbody tr th:only-of-type {\n",
       "        vertical-align: middle;\n",
       "    }\n",
       "\n",
       "    .dataframe tbody tr th {\n",
       "        vertical-align: top;\n",
       "    }\n",
       "\n",
       "    .dataframe thead th {\n",
       "        text-align: right;\n",
       "    }\n",
       "</style>\n",
       "<table border=\"1\" class=\"dataframe\">\n",
       "  <thead>\n",
       "    <tr style=\"text-align: right;\">\n",
       "      <th></th>\n",
       "      <th>year</th>\n",
       "      <th>records</th>\n",
       "    </tr>\n",
       "  </thead>\n",
       "  <tbody>\n",
       "    <tr>\n",
       "      <th>0</th>\n",
       "      <td>1600.0</td>\n",
       "      <td>2</td>\n",
       "    </tr>\n",
       "    <tr>\n",
       "      <th>1</th>\n",
       "      <td>1785.0</td>\n",
       "      <td>1</td>\n",
       "    </tr>\n",
       "    <tr>\n",
       "      <th>2</th>\n",
       "      <td>1800.0</td>\n",
       "      <td>1</td>\n",
       "    </tr>\n",
       "    <tr>\n",
       "      <th>3</th>\n",
       "      <td>1801.0</td>\n",
       "      <td>1</td>\n",
       "    </tr>\n",
       "    <tr>\n",
       "      <th>4</th>\n",
       "      <td>1802.0</td>\n",
       "      <td>1</td>\n",
       "    </tr>\n",
       "  </tbody>\n",
       "</table>\n",
       "</div>"
      ],
      "text/plain": [
       "     year  records\n",
       "0  1600.0        2\n",
       "1  1785.0        1\n",
       "2  1800.0        1\n",
       "3  1801.0        1\n",
       "4  1802.0        1"
      ]
     },
     "execution_count": 67,
     "metadata": {},
     "output_type": "execute_result"
    }
   ],
   "source": [
    "records_year.head()"
   ]
  },
  {
   "cell_type": "code",
   "execution_count": 68,
   "metadata": {},
   "outputs": [],
   "source": [
    "# Filtrar los registros que tienen algún valor nulo en alguna de las columnas\n",
    "df_with_nulls = df_bufoniade_coord[df_bufoniade_coord[['month', 'year']].isna().any(axis=1)]\n",
    "\n",
    "# Filtrar los registros que no tienen valores nulos en ninguna de las columnas\n",
    "df_without_nulls = df_bufoniade_coord[~df_bufoniade_coord[['month', 'year']].isna().any(axis=1)]"
   ]
  },
  {
   "cell_type": "markdown",
   "metadata": {},
   "source": [
    "Nos interesan los registros que tengan informacion para el mes y el año, el dia en este caso no se tendra en cuenta."
   ]
  },
  {
   "cell_type": "code",
   "execution_count": 69,
   "metadata": {},
   "outputs": [
    {
     "name": "stdout",
     "output_type": "stream",
     "text": [
      "Número de registros presentes en el dataframe antes de eliminar valores nulos en la fecha: 585190\n",
      "Número de registros presentes en el dataframe con valores nulos: 87386\n",
      "Número de registros presentes en el dataframe sin valores nulos: 497804\n",
      "Número total de registros descartados: 87386\n"
     ]
    }
   ],
   "source": [
    "print('Número de registros presentes en el dataframe antes de eliminar valores nulos en la fecha:', len(df_bufoniade_coord))\n",
    "print('Número de registros presentes en el dataframe con valores nulos:', len(df_with_nulls))\n",
    "print('Número de registros presentes en el dataframe sin valores nulos:', len(df_without_nulls))\n",
    "\n",
    "antes = len(df_bufoniade_coord)\n",
    "despues = len(df_without_nulls)\n",
    "dif = antes-despues\n",
    "print('Número total de registros descartados:', dif)"
   ]
  },
  {
   "cell_type": "code",
   "execution_count": 70,
   "metadata": {},
   "outputs": [
    {
     "name": "stdout",
     "output_type": "stream",
     "text": [
      "day      87386\n",
      "month    87386\n",
      "year     26589\n",
      "dtype: int64\n"
     ]
    }
   ],
   "source": [
    "null_counts = df_with_nulls[['day', 'month', 'year']].isna().sum()\n",
    "print(null_counts)"
   ]
  },
  {
   "cell_type": "markdown",
   "metadata": {},
   "source": [
    "Trabajaremos con el dataframe que no tiene valores nulos para mes y año, 'df_without_nulls'"
   ]
  },
  {
   "cell_type": "code",
   "execution_count": 71,
   "metadata": {},
   "outputs": [],
   "source": [
    "df_without_nulls_v1 = df_without_nulls.copy()  # Crear una copia del DataFrame\n",
    "\n",
    "df_without_nulls_v1['month'] = df_without_nulls_v1['month'].astype(int)\n",
    "df_without_nulls_v1['year'] = df_without_nulls_v1['year'].astype(int)\n",
    "\n",
    "# Crear una nueva columna de fecha con solo el año y el mes\n",
    "df_without_nulls_v1['date'] = pd.to_datetime(df_without_nulls_v1[['year', 'month']].assign(day=1))"
   ]
  },
  {
   "cell_type": "code",
   "execution_count": 72,
   "metadata": {},
   "outputs": [
    {
     "name": "stdout",
     "output_type": "stream",
     "text": [
      "Fecha mínima: 1800-08-01 00:00:00\n",
      "Fecha máxima: 2024-06-01 00:00:00\n"
     ]
    }
   ],
   "source": [
    "fecha_minima = df_without_nulls_v1['date'].min()\n",
    "fecha_maxima = df_without_nulls_v1['date'].max()\n",
    "print(\"Fecha mínima:\", fecha_minima)\n",
    "print(\"Fecha máxima:\", fecha_maxima)"
   ]
  },
  {
   "cell_type": "code",
   "execution_count": 73,
   "metadata": {},
   "outputs": [],
   "source": [
    "records_year = df_without_nulls_v1.groupby('year').size().reset_index(name='records')"
   ]
  },
  {
   "cell_type": "code",
   "execution_count": 74,
   "metadata": {},
   "outputs": [
    {
     "data": {
      "image/png": "[encoded data removed]",
      "text/plain": [
       "<Figure size 700x400 with 1 Axes>"
      ]
     },
     "metadata": {},
     "output_type": "display_data"
    }
   ],
   "source": [
    "# Crear la figura y el eje\n",
    "fig, ax = plt.subplots(figsize=(7, 4))\n",
    "\n",
    "ax.plot(records_year['year'], records_year['records'], linewidth=2, color='#91972A')\n",
    "ax.set_title('Evolution of the number of registrations over time')\n",
    "ax.set_xlabel('Year')\n",
    "ax.set_ylabel('Number of records')\n",
    "ax.yaxis.get_major_formatter().set_scientific(False)\n",
    "\n",
    "# Mostrar el gráfico\n",
    "plt.show()"
   ]
  },
  {
   "cell_type": "markdown",
   "metadata": {},
   "source": [
    "## Periodo temporal acorde con los variables independientes"
   ]
  },
  {
   "cell_type": "code",
   "execution_count": 75,
   "metadata": {},
   "outputs": [],
   "source": [
    "data_bufonidae = df_without_nulls_v1.loc[\n",
    "    (df_without_nulls_v1['year'] >= 1981) & (df_without_nulls_v1['year'] <= 2010)\n",
    "]\n",
    "data_bufonidae = data_bufonidae.sort_values('year')"
   ]
  },
  {
   "cell_type": "code",
   "execution_count": 76,
   "metadata": {},
   "outputs": [
    {
     "data": {
      "text/html": [
       "<div>\n",
       "<style scoped>\n",
       "    .dataframe tbody tr th:only-of-type {\n",
       "        vertical-align: middle;\n",
       "    }\n",
       "\n",
       "    .dataframe tbody tr th {\n",
       "        vertical-align: top;\n",
       "    }\n",
       "\n",
       "    .dataframe thead th {\n",
       "        text-align: right;\n",
       "    }\n",
       "</style>\n",
       "<table border=\"1\" class=\"dataframe\">\n",
       "  <thead>\n",
       "    <tr style=\"text-align: right;\">\n",
       "      <th></th>\n",
       "      <th>gbifID</th>\n",
       "      <th>FAMILY</th>\n",
       "      <th>GENUS</th>\n",
       "      <th>species</th>\n",
       "      <th>infraspecificEpithet</th>\n",
       "      <th>taxonRank</th>\n",
       "      <th>S_NAME</th>\n",
       "      <th>name</th>\n",
       "      <th>countryCode</th>\n",
       "      <th>locality</th>\n",
       "      <th>...</th>\n",
       "      <th>day</th>\n",
       "      <th>month</th>\n",
       "      <th>year</th>\n",
       "      <th>occurrenceStatus</th>\n",
       "      <th>basisOfRecord</th>\n",
       "      <th>recordedBy</th>\n",
       "      <th>issue</th>\n",
       "      <th>len_dec_lat</th>\n",
       "      <th>len_dec_lon</th>\n",
       "      <th>date</th>\n",
       "    </tr>\n",
       "  </thead>\n",
       "  <tbody>\n",
       "    <tr>\n",
       "      <th>344924</th>\n",
       "      <td>2885262432</td>\n",
       "      <td>Bufonidae</td>\n",
       "      <td>Bufo</td>\n",
       "      <td>Bufo bufo</td>\n",
       "      <td>NaN</td>\n",
       "      <td>SPECIES</td>\n",
       "      <td>Bufo bufo (Linnaeus, 1758)</td>\n",
       "      <td>Common Toad</td>\n",
       "      <td>DK</td>\n",
       "      <td>NaN</td>\n",
       "      <td>...</td>\n",
       "      <td>7.0</td>\n",
       "      <td>5</td>\n",
       "      <td>1981</td>\n",
       "      <td>PRESENT</td>\n",
       "      <td>HUMAN_OBSERVATION</td>\n",
       "      <td>Gribskov Kommune</td>\n",
       "      <td>COORDINATE_ROUNDED;CONTINENT_DERIVED_FROM_COOR...</td>\n",
       "      <td>6</td>\n",
       "      <td>6</td>\n",
       "      <td>1981-05-01</td>\n",
       "    </tr>\n",
       "    <tr>\n",
       "      <th>400374</th>\n",
       "      <td>3120553391</td>\n",
       "      <td>Bufonidae</td>\n",
       "      <td>Bufo</td>\n",
       "      <td>Bufo bufo</td>\n",
       "      <td>NaN</td>\n",
       "      <td>SPECIES</td>\n",
       "      <td>Bufo bufo (Linnaeus, 1758)</td>\n",
       "      <td>Common Toad</td>\n",
       "      <td>CH</td>\n",
       "      <td>NaN</td>\n",
       "      <td>...</td>\n",
       "      <td>5.0</td>\n",
       "      <td>4</td>\n",
       "      <td>1981</td>\n",
       "      <td>PRESENT</td>\n",
       "      <td>HUMAN_OBSERVATION</td>\n",
       "      <td>Knapp Noldi</td>\n",
       "      <td>TAXON_MATCH_TAXON_ID_IGNORED</td>\n",
       "      <td>5</td>\n",
       "      <td>5</td>\n",
       "      <td>1981-04-01</td>\n",
       "    </tr>\n",
       "  </tbody>\n",
       "</table>\n",
       "<p>2 rows × 25 columns</p>\n",
       "</div>"
      ],
      "text/plain": [
       "            gbifID     FAMILY GENUS    species infraspecificEpithet taxonRank  \\\n",
       "344924  2885262432  Bufonidae  Bufo  Bufo bufo                  NaN   SPECIES   \n",
       "400374  3120553391  Bufonidae  Bufo  Bufo bufo                  NaN   SPECIES   \n",
       "\n",
       "                            S_NAME         name countryCode locality  ...  \\\n",
       "344924  Bufo bufo (Linnaeus, 1758)  Common Toad          DK      NaN  ...   \n",
       "400374  Bufo bufo (Linnaeus, 1758)  Common Toad          CH      NaN  ...   \n",
       "\n",
       "        day  month  year  occurrenceStatus      basisOfRecord  \\\n",
       "344924  7.0      5  1981           PRESENT  HUMAN_OBSERVATION   \n",
       "400374  5.0      4  1981           PRESENT  HUMAN_OBSERVATION   \n",
       "\n",
       "              recordedBy                                              issue  \\\n",
       "344924  Gribskov Kommune  COORDINATE_ROUNDED;CONTINENT_DERIVED_FROM_COOR...   \n",
       "400374       Knapp Noldi                       TAXON_MATCH_TAXON_ID_IGNORED   \n",
       "\n",
       "        len_dec_lat len_dec_lon       date  \n",
       "344924            6           6 1981-05-01  \n",
       "400374            5           5 1981-04-01  \n",
       "\n",
       "[2 rows x 25 columns]"
      ]
     },
     "execution_count": 76,
     "metadata": {},
     "output_type": "execute_result"
    }
   ],
   "source": [
    "data_bufonidae.head(2)"
   ]
  },
  {
   "cell_type": "code",
   "execution_count": 77,
   "metadata": {},
   "outputs": [
    {
     "data": {
      "text/html": [
       "<div>\n",
       "<style scoped>\n",
       "    .dataframe tbody tr th:only-of-type {\n",
       "        vertical-align: middle;\n",
       "    }\n",
       "\n",
       "    .dataframe tbody tr th {\n",
       "        vertical-align: top;\n",
       "    }\n",
       "\n",
       "    .dataframe thead th {\n",
       "        text-align: right;\n",
       "    }\n",
       "</style>\n",
       "<table border=\"1\" class=\"dataframe\">\n",
       "  <thead>\n",
       "    <tr style=\"text-align: right;\">\n",
       "      <th></th>\n",
       "      <th>gbifID</th>\n",
       "      <th>FAMILY</th>\n",
       "      <th>GENUS</th>\n",
       "      <th>species</th>\n",
       "      <th>infraspecificEpithet</th>\n",
       "      <th>taxonRank</th>\n",
       "      <th>S_NAME</th>\n",
       "      <th>name</th>\n",
       "      <th>countryCode</th>\n",
       "      <th>locality</th>\n",
       "      <th>...</th>\n",
       "      <th>day</th>\n",
       "      <th>month</th>\n",
       "      <th>year</th>\n",
       "      <th>occurrenceStatus</th>\n",
       "      <th>basisOfRecord</th>\n",
       "      <th>recordedBy</th>\n",
       "      <th>issue</th>\n",
       "      <th>len_dec_lat</th>\n",
       "      <th>len_dec_lon</th>\n",
       "      <th>date</th>\n",
       "    </tr>\n",
       "  </thead>\n",
       "  <tbody>\n",
       "    <tr>\n",
       "      <th>42907</th>\n",
       "      <td>2894683929</td>\n",
       "      <td>Bufonidae</td>\n",
       "      <td>Bufo</td>\n",
       "      <td>Bufo bufo</td>\n",
       "      <td>NaN</td>\n",
       "      <td>SPECIES</td>\n",
       "      <td>Bufo bufo (Linnaeus, 1758)</td>\n",
       "      <td>Common Toad</td>\n",
       "      <td>DK</td>\n",
       "      <td>NaN</td>\n",
       "      <td>...</td>\n",
       "      <td>22.0</td>\n",
       "      <td>4</td>\n",
       "      <td>2010</td>\n",
       "      <td>PRESENT</td>\n",
       "      <td>HUMAN_OBSERVATION</td>\n",
       "      <td>Aalborg Kommune</td>\n",
       "      <td>COORDINATE_ROUNDED;CONTINENT_DERIVED_FROM_COOR...</td>\n",
       "      <td>6</td>\n",
       "      <td>6</td>\n",
       "      <td>2010-04-01</td>\n",
       "    </tr>\n",
       "    <tr>\n",
       "      <th>42911</th>\n",
       "      <td>2888549084</td>\n",
       "      <td>Bufonidae</td>\n",
       "      <td>Bufo</td>\n",
       "      <td>Bufo bufo</td>\n",
       "      <td>NaN</td>\n",
       "      <td>SPECIES</td>\n",
       "      <td>Bufo bufo (Linnaeus, 1758)</td>\n",
       "      <td>Common Toad</td>\n",
       "      <td>DK</td>\n",
       "      <td>NaN</td>\n",
       "      <td>...</td>\n",
       "      <td>17.0</td>\n",
       "      <td>4</td>\n",
       "      <td>2010</td>\n",
       "      <td>PRESENT</td>\n",
       "      <td>HUMAN_OBSERVATION</td>\n",
       "      <td>Aalborg Kommune</td>\n",
       "      <td>COORDINATE_ROUNDED;CONTINENT_DERIVED_FROM_COOR...</td>\n",
       "      <td>6</td>\n",
       "      <td>6</td>\n",
       "      <td>2010-04-01</td>\n",
       "    </tr>\n",
       "  </tbody>\n",
       "</table>\n",
       "<p>2 rows × 25 columns</p>\n",
       "</div>"
      ],
      "text/plain": [
       "           gbifID     FAMILY GENUS    species infraspecificEpithet taxonRank  \\\n",
       "42907  2894683929  Bufonidae  Bufo  Bufo bufo                  NaN   SPECIES   \n",
       "42911  2888549084  Bufonidae  Bufo  Bufo bufo                  NaN   SPECIES   \n",
       "\n",
       "                           S_NAME         name countryCode locality  ...  \\\n",
       "42907  Bufo bufo (Linnaeus, 1758)  Common Toad          DK      NaN  ...   \n",
       "42911  Bufo bufo (Linnaeus, 1758)  Common Toad          DK      NaN  ...   \n",
       "\n",
       "        day  month  year  occurrenceStatus      basisOfRecord  \\\n",
       "42907  22.0      4  2010           PRESENT  HUMAN_OBSERVATION   \n",
       "42911  17.0      4  2010           PRESENT  HUMAN_OBSERVATION   \n",
       "\n",
       "            recordedBy                                              issue  \\\n",
       "42907  Aalborg Kommune  COORDINATE_ROUNDED;CONTINENT_DERIVED_FROM_COOR...   \n",
       "42911  Aalborg Kommune  COORDINATE_ROUNDED;CONTINENT_DERIVED_FROM_COOR...   \n",
       "\n",
       "       len_dec_lat len_dec_lon       date  \n",
       "42907            6           6 2010-04-01  \n",
       "42911            6           6 2010-04-01  \n",
       "\n",
       "[2 rows x 25 columns]"
      ]
     },
     "execution_count": 77,
     "metadata": {},
     "output_type": "execute_result"
    }
   ],
   "source": [
    "data_bufonidae.tail(2)"
   ]
  },
  {
   "cell_type": "code",
   "execution_count": 78,
   "metadata": {},
   "outputs": [],
   "source": [
    "#data_bufonidae.to_csv('01_PREPROCESADO/df_Bufoniade_Tax_Time_Ok.csv', index=False, encoding='utf-8-sig')"
   ]
  },
  {
   "cell_type": "code",
   "execution_count": 79,
   "metadata": {},
   "outputs": [
    {
     "name": "stdout",
     "output_type": "stream",
     "text": [
      "Número de registros presentes en el dataframe antes de aplicar el filtro temporal acorde a los datos climaticos: 497804\n",
      "Número de registros presentes en el dataframe despues de aplicar el filtro temporal acorde a los datos climaticos: 119268\n",
      "Número total de registros descartados: 378536\n"
     ]
    }
   ],
   "source": [
    "print('Número de registros presentes en el dataframe antes de aplicar el filtro temporal acorde a los datos climaticos:', len(df_without_nulls_v1))\n",
    "print('Número de registros presentes en el dataframe despues de aplicar el filtro temporal acorde a los datos climaticos:', len(data_bufonidae))\n",
    "\n",
    "antes = len(df_without_nulls_v1)\n",
    "despues = len(data_bufonidae)\n",
    "dif = antes-despues\n",
    "print('Número total de registros descartados:', dif)"
   ]
  },
  {
   "cell_type": "markdown",
   "metadata": {},
   "source": [
    "# Evaluación de registros duplicados"
   ]
  },
  {
   "cell_type": "code",
   "execution_count": 80,
   "metadata": {},
   "outputs": [
    {
     "data": {
      "text/plain": [
       "Index(['gbifID', 'FAMILY', 'GENUS', 'species', 'infraspecificEpithet',\n",
       "       'taxonRank', 'S_NAME', 'name', 'countryCode', 'locality',\n",
       "       'stateProvince', 'decimalLatitude', 'decimalLongitude',\n",
       "       'coordinatePrecision', 'eventDate', 'day', 'month', 'year',\n",
       "       'occurrenceStatus', 'basisOfRecord', 'recordedBy', 'issue',\n",
       "       'len_dec_lat', 'len_dec_lon', 'date'],\n",
       "      dtype='object')"
      ]
     },
     "execution_count": 80,
     "metadata": {},
     "output_type": "execute_result"
    }
   ],
   "source": [
    "dataframe_bufonidae = data_bufonidae.copy()  # Crear una copia del DataFrame\n",
    "dataframe_bufonidae.columns"
   ]
  },
  {
   "cell_type": "code",
   "execution_count": 81,
   "metadata": {},
   "outputs": [],
   "source": [
    "campos = ('gbifID', 'FAMILY', 'GENUS', 'species','taxonRank', 'S_NAME', 'name',\n",
    "          'countryCode', 'decimalLatitude','decimalLongitude', \n",
    "          'eventDate', 'day', 'month', 'year', 'date',\n",
    "          'basisOfRecord', 'recordedBy')\n",
    "\n",
    "dataframe_bufonidae = dataframe_bufonidae[list(campos)]"
   ]
  },
  {
   "cell_type": "code",
   "execution_count": 82,
   "metadata": {},
   "outputs": [],
   "source": [
    "# Se redondea las columnas de latitud y longitud a 4 decimales\n",
    "dataframe_bufonidae['rounded_lat'] = dataframe_bufonidae['decimalLatitude'].round(4)\n",
    "dataframe_bufonidae['rounded_lon'] = dataframe_bufonidae['decimalLongitude'].round(4)\n",
    "\n",
    "# Se crea una nueva columna para la combinación de nombre de especie, fecha y ubicación redondeada\n",
    "dataframe_bufonidae['species_date_location'] = dataframe_bufonidae['species'] + '_' + dataframe_bufonidae['eventDate'].astype(str) + '_' + dataframe_bufonidae['recordedBy'].astype(str) + '_' + dataframe_bufonidae['rounded_lat'].astype(str) + '_' + dataframe_bufonidae['rounded_lon'].astype(str)"
   ]
  },
  {
   "cell_type": "code",
   "execution_count": 83,
   "metadata": {},
   "outputs": [
    {
     "data": {
      "text/plain": [
       "45486"
      ]
     },
     "execution_count": 83,
     "metadata": {},
     "output_type": "execute_result"
    }
   ],
   "source": [
    "# Buscar duplicados basados en la columna 'species_date_location'\n",
    "duplicates = dataframe_bufonidae[dataframe_bufonidae.duplicated(subset='species_date_location', keep=False)]\n",
    "duplicates.shape[0]"
   ]
  },
  {
   "cell_type": "code",
   "execution_count": 84,
   "metadata": {},
   "outputs": [],
   "source": [
    "# Eliminar los duplicados del DataFrame basados en la columna 'species_date_location'\n",
    "dataframe_bufonidae_clean = dataframe_bufonidae.drop_duplicates(subset='species_date_location')"
   ]
  },
  {
   "cell_type": "code",
   "execution_count": 85,
   "metadata": {},
   "outputs": [
    {
     "name": "stdout",
     "output_type": "stream",
     "text": [
      "Número de registros presentes en el dataframe antes de eliminar duplicados: 119268\n",
      "Número de registros presentes en el dataframe después de eliminar duplicados: 86832\n",
      "Número total de registros descartados: 32436\n"
     ]
    }
   ],
   "source": [
    "print('Número de registros presentes en el dataframe antes de eliminar duplicados:', len(dataframe_bufonidae))\n",
    "print('Número de registros presentes en el dataframe después de eliminar duplicados:', len(dataframe_bufonidae_clean))\n",
    "\n",
    "antes = len(dataframe_bufonidae)\n",
    "despues = len(dataframe_bufonidae_clean)\n",
    "dif = antes-despues\n",
    "print('Número total de registros descartados:', dif)"
   ]
  },
  {
   "cell_type": "code",
   "execution_count": 86,
   "metadata": {},
   "outputs": [],
   "source": [
    "dataframe_bufonidae_clean.to_csv('01_PREPROCESADO/Data_Bufonidae_EU_processed.csv', index=False, encoding='utf-8-sig')"
   ]
  }
 ],
 "metadata": {
  "kernelspec": {
   "display_name": "anura",
   "language": "python",
   "name": "python3"
  },
  "language_info": {
   "codemirror_mode": {
    "name": "ipython",
    "version": 3
   },
   "file_extension": ".py",
   "mimetype": "text/x-python",
   "name": "python",
   "nbconvert_exporter": "python",
   "pygments_lexer": "ipython3",
   "version": "3.12.4"
  }
 },
 "nbformat": 4,
 "nbformat_minor": 2
}
